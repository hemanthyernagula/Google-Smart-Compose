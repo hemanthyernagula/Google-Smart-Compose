{
 "cells": [
  {
   "cell_type": "markdown",
   "metadata": {
    "colab_type": "text",
    "id": "ECTRPMReZahW"
   },
   "source": [
    "<strong>In previous notebook we have generated email dataset now we shall prepare the dataset  as  per our requirement</strong>"
   ]
  },
  {
   "cell_type": "code",
   "execution_count": 1,
   "metadata": {
    "colab": {
     "base_uri": "https://localhost:8080/",
     "height": 125
    },
    "colab_type": "code",
    "id": "_vUUNK7IHcEI",
    "outputId": "491cba9e-db37-43d4-f372-29fd1ee9493e"
   },
   "outputs": [
    {
     "name": "stdout",
     "output_type": "stream",
     "text": [
      "Go to this URL in a browser: https://accounts.google.com/o/oauth2/auth?client_id=947318989803-6bn6qk8qdgf4n4g3pfee6491hc0brc4i.apps.googleusercontent.com&redirect_uri=urn%3aietf%3awg%3aoauth%3a2.0%3aoob&response_type=code&scope=email%20https%3a%2f%2fwww.googleapis.com%2fauth%2fdocs.test%20https%3a%2f%2fwww.googleapis.com%2fauth%2fdrive%20https%3a%2f%2fwww.googleapis.com%2fauth%2fdrive.photos.readonly%20https%3a%2f%2fwww.googleapis.com%2fauth%2fpeopleapi.readonly\n",
      "\n",
      "Enter your authorization code:\n",
      "··········\n",
      "Mounted at gdrive\n"
     ]
    }
   ],
   "source": [
    "from google.colab import drive\n",
    "drive.mount('gdrive',force_remount=True)"
   ]
  },
  {
   "cell_type": "code",
   "execution_count": 0,
   "metadata": {
    "colab": {},
    "colab_type": "code",
    "id": "rYJWLci5IENp"
   },
   "outputs": [],
   "source": [
    "import os\n",
    "import cv2\n",
    "import json\n",
    "import re\n",
    "import shutil\n",
    "import numpy as np\n",
    "import tarfile\n",
    "import pickle\n",
    "from bs4 import BeautifulSoup\n",
    "import sys\n",
    "import joblib\n",
    "from functools import reduce\n",
    "import operator\n",
    "import multiprocessing\n",
    "import pandas as pd\n",
    "import matplotlib.pyplot as plt\n",
    "import random\n",
    "import matplotlib.pyplot as plt\n",
    "from matplotlib import patches\n",
    "from itertools import chain\n",
    "import datetime\n",
    "from tqdm import tqdm\n",
    "from zipfile import ZipFile\n",
    "from google.colab.patches import cv2_imshow\n",
    "import collections\n",
    "from collections import Counter\n",
    "from sklearn.model_selection import train_test_split\n",
    "\n",
    "from sklearn.utils import shuffle\n",
    "%matplotlib inline\n",
    "import seaborn as sns\n",
    "import matplotlib.pyplot as plt\n",
    "import pandas as pd\n",
    "from mpl_toolkits.mplot3d import Axes3D\n",
    "import numpy as np\n",
    "from pathlib import Path\n",
    "from skimage.io import imread\n",
    "from skimage.color import label2rgb"
   ]
  },
  {
   "cell_type": "code",
   "execution_count": 3,
   "metadata": {
    "colab": {
     "base_uri": "https://localhost:8080/",
     "height": 34
    },
    "colab_type": "code",
    "id": "zhK-sh1OIX5H",
    "outputId": "9c483d2f-e575-40ce-a241-64abb06425e4"
   },
   "outputs": [
    {
     "data": {
      "text/plain": [
       "(164, 6)"
      ]
     },
     "execution_count": 3,
     "metadata": {
      "tags": []
     },
     "output_type": "execute_result"
    }
   ],
   "source": [
    "final_data_points = pd.read_csv('gdrive/My Drive/google/final_data_processed_my_emails.csv')\n",
    "final_data_points.shape"
   ]
  },
  {
   "cell_type": "code",
   "execution_count": 4,
   "metadata": {
    "colab": {
     "base_uri": "https://localhost:8080/",
     "height": 573
    },
    "colab_type": "code",
    "id": "-Xw4tLGvHvj9",
    "outputId": "a0295c7c-b5c4-438f-8075-74ec01a3f059"
   },
   "outputs": [
    {
     "data": {
      "text/html": [
       "<div>\n",
       "<style scoped>\n",
       "    .dataframe tbody tr th:only-of-type {\n",
       "        vertical-align: middle;\n",
       "    }\n",
       "\n",
       "    .dataframe tbody tr th {\n",
       "        vertical-align: top;\n",
       "    }\n",
       "\n",
       "    .dataframe thead th {\n",
       "        text-align: right;\n",
       "    }\n",
       "</style>\n",
       "<table border=\"1\" class=\"dataframe\">\n",
       "  <thead>\n",
       "    <tr style=\"text-align: right;\">\n",
       "      <th></th>\n",
       "      <th>File_name</th>\n",
       "      <th>To</th>\n",
       "      <th>Subject</th>\n",
       "      <th>Previous_email</th>\n",
       "      <th>Content</th>\n",
       "      <th>Type</th>\n",
       "    </tr>\n",
       "  </thead>\n",
       "  <tbody>\n",
       "    <tr>\n",
       "      <th>0</th>\n",
       "      <td>emails_/yernagulahemanth/inbox/299.txt</td>\n",
       "      <td>yernagulahemanth</td>\n",
       "      <td>git hub</td>\n",
       "      <td>NaN</td>\n",
       "      <td>man please go to this link and try to download...</td>\n",
       "      <td>c__d</td>\n",
       "    </tr>\n",
       "    <tr>\n",
       "      <th>1</th>\n",
       "      <td>emails_/yernagulahemanth/inbox/412.txt</td>\n",
       "      <td>yernagulahemanth</td>\n",
       "      <td>how are you comminig</td>\n",
       "      <td>NaN</td>\n",
       "      <td>hello mrs yernagulahemanth casestudy are will ...</td>\n",
       "      <td>c__d</td>\n",
       "    </tr>\n",
       "    <tr>\n",
       "      <th>2</th>\n",
       "      <td>emails_/yernagulahemanth/inbox/412.txt</td>\n",
       "      <td>hemanthcasestudy4</td>\n",
       "      <td>how are you comminig</td>\n",
       "      <td>hello mrs yernagulahemanth casestudy are will ...</td>\n",
       "      <td>hello yernagulahemanth i will be coming by car...</td>\n",
       "      <td>r__y</td>\n",
       "    </tr>\n",
       "    <tr>\n",
       "      <th>3</th>\n",
       "      <td>emails_/yernagulahemanth/inbox/381.txt</td>\n",
       "      <td>yernagulahemanth</td>\n",
       "      <td>regarding deep learning project</td>\n",
       "      <td>NaN</td>\n",
       "      <td>yes this seems fine only three words in the ou...</td>\n",
       "      <td>c__d</td>\n",
       "    </tr>\n",
       "    <tr>\n",
       "      <th>4</th>\n",
       "      <td>emails_/yernagulahemanth/inbox/400.txt</td>\n",
       "      <td>yernagulahemanth</td>\n",
       "      <td>webinar</td>\n",
       "      <td>NaN</td>\n",
       "      <td>hello saitejapsk this evening at pm your are h...</td>\n",
       "      <td>c__d</td>\n",
       "    </tr>\n",
       "    <tr>\n",
       "      <th>...</th>\n",
       "      <td>...</td>\n",
       "      <td>...</td>\n",
       "      <td>...</td>\n",
       "      <td>...</td>\n",
       "      <td>...</td>\n",
       "      <td>...</td>\n",
       "    </tr>\n",
       "    <tr>\n",
       "      <th>159</th>\n",
       "      <td>emails_/yernagulahemanth/sent/117.txt</td>\n",
       "      <td>yernagulahemanth</td>\n",
       "      <td>regarding sql assignment</td>\n",
       "      <td>thank you for your response on sat sep pm appl...</td>\n",
       "      <td>hello team i saw the links i am ok with writin...</td>\n",
       "      <td>r__y</td>\n",
       "    </tr>\n",
       "    <tr>\n",
       "      <th>160</th>\n",
       "      <td>emails_/yernagulahemanth/sent/77.txt</td>\n",
       "      <td>team</td>\n",
       "      <td>about final project</td>\n",
       "      <td>NaN</td>\n",
       "      <td>can you explain more about the problem stateme...</td>\n",
       "      <td>c__d</td>\n",
       "    </tr>\n",
       "    <tr>\n",
       "      <th>161</th>\n",
       "      <td>emails_/yernagulahemanth/sent/77.txt</td>\n",
       "      <td>yernagulahemanth</td>\n",
       "      <td>about final project</td>\n",
       "      <td>can you explain more about the problem stateme...</td>\n",
       "      <td>it is just like digit recognition we will inpu...</td>\n",
       "      <td>r__y</td>\n",
       "    </tr>\n",
       "    <tr>\n",
       "      <th>162</th>\n",
       "      <td>emails_/yernagulahemanth/sent/116.txt</td>\n",
       "      <td>team</td>\n",
       "      <td>regarding sql assignment</td>\n",
       "      <td>NaN</td>\n",
       "      <td>you need to be comfortable with writing nested...</td>\n",
       "      <td>c__d</td>\n",
       "    </tr>\n",
       "    <tr>\n",
       "      <th>163</th>\n",
       "      <td>emails_/yernagulahemanth/sent/116.txt</td>\n",
       "      <td>yernagulahemanth</td>\n",
       "      <td>regarding sql assignment</td>\n",
       "      <td>you need to be comfortable with writing nested...</td>\n",
       "      <td>thank you for your response on sat sep pm appl...</td>\n",
       "      <td>r__y</td>\n",
       "    </tr>\n",
       "  </tbody>\n",
       "</table>\n",
       "<p>164 rows × 6 columns</p>\n",
       "</div>"
      ],
      "text/plain": [
       "                                  File_name  ...  Type\n",
       "0    emails_/yernagulahemanth/inbox/299.txt  ...  c__d\n",
       "1    emails_/yernagulahemanth/inbox/412.txt  ...  c__d\n",
       "2    emails_/yernagulahemanth/inbox/412.txt  ...  r__y\n",
       "3    emails_/yernagulahemanth/inbox/381.txt  ...  c__d\n",
       "4    emails_/yernagulahemanth/inbox/400.txt  ...  c__d\n",
       "..                                      ...  ...   ...\n",
       "159   emails_/yernagulahemanth/sent/117.txt  ...  r__y\n",
       "160    emails_/yernagulahemanth/sent/77.txt  ...  c__d\n",
       "161    emails_/yernagulahemanth/sent/77.txt  ...  r__y\n",
       "162   emails_/yernagulahemanth/sent/116.txt  ...  c__d\n",
       "163   emails_/yernagulahemanth/sent/116.txt  ...  r__y\n",
       "\n",
       "[164 rows x 6 columns]"
      ]
     },
     "execution_count": 4,
     "metadata": {
      "tags": []
     },
     "output_type": "execute_result"
    }
   ],
   "source": [
    "final_data_points"
   ]
  },
  {
   "cell_type": "code",
   "execution_count": 0,
   "metadata": {
    "colab": {},
    "colab_type": "code",
    "id": "oOhFQdbMRjY2"
   },
   "outputs": [],
   "source": [
    "def data_for_model(index_,dataframe=0):\n",
    "      '''\n",
    "      Creates a dataframe such a way that each content  will be divided into x and y \n",
    "      if  x is first word of content then y will be  second word of content  i.e if\n",
    "      x is ith word  then y will be (i+1)th word.Like  this we are going to assign minimum\n",
    "      one word to maximum 5 words\n",
    "      '''\n",
    "      x = []\n",
    "      y = []\n",
    "      to = []\n",
    "      subject = []\n",
    "      content = []\n",
    "      file_nm = []\n",
    "      prev_email = []\n",
    "      \n",
    "      type_      = []\n",
    "      text = dataframe.Content.iloc[index_]\n",
    "      for i in range(len(text)):\n",
    "      \n",
    "\n",
    "              s = 0\n",
    "              e = i\n",
    "              for j in range(5):\n",
    "                      \n",
    "                      ee = i+1\n",
    "                      p = ' '.join(text.split()[s:e+1])\n",
    "                      q = ' '.join(text.split()[ee:ee+j+1])\n",
    "\n",
    "                      if len(q) == 0:\n",
    "                        continue\n",
    "                      else:\n",
    "\n",
    "                        # print(p,'-->',q)\n",
    "                        \n",
    "                        x.append(p)\n",
    "                        y.append(q)\n",
    "                        to.append(dataframe.To.iloc[index_])\n",
    "                        subject.append(dataframe.Subject.iloc[index_])\n",
    "                        prev_email.append(dataframe.Previous_email.iloc[index_])\n",
    "                        file_nm.append(dataframe.File_name.iloc[index_])\n",
    "                        content.append(dataframe.Content.iloc[index_])\n",
    "                        type_.append(dataframe.Type.iloc[index_])\n",
    "\n",
    "      data_to_model = pd.DataFrame(columns=['To', 'Subject', 'Previous_email', 'Type','x','y'])\n",
    "\n",
    "      data_to_model['x']=x\n",
    "      data_to_model['y']=y   \n",
    "      data_to_model['To'] = to\n",
    "      data_to_model['File_nm'] = file_nm\n",
    "      data_to_model['Subject'] = subject\n",
    "      data_to_model['Previous_email'] = prev_email\n",
    "      data_to_model['Content'] = content\n",
    "      data_to_model['Type'] = type_  \n",
    "      return data_to_model"
   ]
  },
  {
   "cell_type": "code",
   "execution_count": 0,
   "metadata": {
    "colab": {},
    "colab_type": "code",
    "id": "mremqWWERr9K"
   },
   "outputs": [],
   "source": [
    "def multi_processing(df,nm):\n",
    "      '''\n",
    "      Given dataframe is passed to data_to_model  function and saves \n",
    "      to joblib  folder  with particular name.\n",
    "      '''\n",
    "\n",
    "      data_to_model = pd.DataFrame()\n",
    "      \n",
    "      shape_ = df.shape[0]\n",
    "      current_dataframe = df\n",
    "      for i in tqdm(range(shape_),position=0):\n",
    "          data_to_model = data_to_model.append(data_for_model(i,df))\n",
    "          data_to_model.drop_duplicates()\n",
    "\n",
    "      joblib.dump(data_to_model,'joblib/sample_'+nm)\n"
   ]
  },
  {
   "cell_type": "code",
   "execution_count": 0,
   "metadata": {
    "colab": {
     "base_uri": "https://localhost:8080/",
     "height": 390
    },
    "colab_type": "code",
    "id": "5RGg1OpH0hMQ",
    "outputId": "b315d790-83ea-4311-afa9-0c2f7561021e"
   },
   "outputs": [
    {
     "name": "stderr",
     "output_type": "stream",
     "text": [
      "100%|██████████| 10/10 [00:02<00:00,  3.70it/s]\n",
      "100%|██████████| 10/10 [00:02<00:00,  4.13it/s]\n",
      "100%|██████████| 10/10 [00:02<00:00,  3.34it/s]\n",
      "100%|██████████| 10/10 [00:02<00:00,  3.62it/s]\n",
      "100%|██████████| 10/10 [00:01<00:00,  8.03it/s]\n",
      "100%|██████████| 10/10 [00:01<00:00,  8.44it/s]\n",
      "100%|██████████| 10/10 [00:01<00:00,  6.39it/s]\n",
      "100%|██████████| 10/10 [00:02<00:00,  4.37it/s]\n",
      " 80%|████████  | 8/10 [00:01<00:00,  7.75it/s]\n",
      "100%|██████████| 10/10 [00:01<00:00,  9.12it/s]\n",
      "100%|██████████| 10/10 [00:01<00:00,  7.28it/s]\n",
      "100%|██████████| 10/10 [00:01<00:00,  4.61it/s]\n",
      "100%|██████████| 10/10 [00:01<00:00, 10.19it/s]\n",
      "100%|██████████| 10/10 [00:01<00:00,  9.36it/s]\n",
      "100%|██████████| 10/10 [00:01<00:00,  7.64it/s]\n",
      "100%|██████████| 10/10 [00:01<00:00,  7.08it/s]\n",
      "0it [00:00, ?it/s]\n",
      "0it [00:00, ?it/s]\n",
      "\n",
      "100%|██████████| 4/4 [00:00<00:00, 24.84it/s]\n",
      "100%|██████████| 5/5 [00:08<00:00,  1.52s/it]\n"
     ]
    }
   ],
   "source": [
    "for i in tqdm(range(0,164,40),position=0):\n",
    "     \n",
    "      multiprocess = multiprocessing.Manager()\n",
    "      p1   =  multiprocessing.Process(target=multi_processing,args=(final_data_points[i:i+10],str(i+10)))\n",
    "      p2   =  multiprocessing.Process(target=multi_processing,args=(final_data_points[i+10:i+20],str(i+10)+'_'+str(i+20)))\n",
    "      p3   =  multiprocessing.Process(target=multi_processing,args=(final_data_points[i+20:i+30],str(i+20)+'_'+str(i+30)))\n",
    "      p4   =  multiprocessing.Process(target=multi_processing,args=(final_data_points[i+30:i+40],str(i+30)+'_'+str(i+40)))\n",
    "     \n",
    "      p1.start()\n",
    "      p2.start()\n",
    "      p3.start()\n",
    "      p4.start()\n",
    "      \n",
    "      p1.join()\n",
    "      p2.join()\n",
    "      p3.join()\n",
    "      p4.join()\n",
    "     "
   ]
  },
  {
   "cell_type": "code",
   "execution_count": 0,
   "metadata": {
    "colab": {
     "base_uri": "https://localhost:8080/",
     "height": 944
    },
    "colab_type": "code",
    "id": "UYZ-vrlkqvZt",
    "outputId": "14d8e269-adc4-4276-8bba-cc29e2c0b1b0"
   },
   "outputs": [
    {
     "name": "stderr",
     "output_type": "stream",
     "text": [
      "100%|██████████| 20/20 [00:00<00:00, 162.31it/s]\n"
     ]
    },
    {
     "data": {
      "text/html": [
       "<div>\n",
       "<style scoped>\n",
       "    .dataframe tbody tr th:only-of-type {\n",
       "        vertical-align: middle;\n",
       "    }\n",
       "\n",
       "    .dataframe tbody tr th {\n",
       "        vertical-align: top;\n",
       "    }\n",
       "\n",
       "    .dataframe thead th {\n",
       "        text-align: right;\n",
       "    }\n",
       "</style>\n",
       "<table border=\"1\" class=\"dataframe\">\n",
       "  <thead>\n",
       "    <tr style=\"text-align: right;\">\n",
       "      <th></th>\n",
       "      <th>To</th>\n",
       "      <th>Subject</th>\n",
       "      <th>Previous_email</th>\n",
       "      <th>Type</th>\n",
       "      <th>x</th>\n",
       "      <th>y</th>\n",
       "      <th>File_nm</th>\n",
       "      <th>Content</th>\n",
       "    </tr>\n",
       "  </thead>\n",
       "  <tbody>\n",
       "    <tr>\n",
       "      <th>0</th>\n",
       "      <td>yernagulahemanth</td>\n",
       "      <td>about final project</td>\n",
       "      <td>NaN</td>\n",
       "      <td>c__d</td>\n",
       "      <td>hello</td>\n",
       "      <td>yernagulahemanth</td>\n",
       "      <td>emails_/yernagulahemanth/inbox/185.txt</td>\n",
       "      <td>hello yernagulahemanth  can you explain more a...</td>\n",
       "    </tr>\n",
       "    <tr>\n",
       "      <th>1</th>\n",
       "      <td>yernagulahemanth</td>\n",
       "      <td>about final project</td>\n",
       "      <td>NaN</td>\n",
       "      <td>c__d</td>\n",
       "      <td>hello</td>\n",
       "      <td>yernagulahemanth can</td>\n",
       "      <td>emails_/yernagulahemanth/inbox/185.txt</td>\n",
       "      <td>hello yernagulahemanth  can you explain more a...</td>\n",
       "    </tr>\n",
       "    <tr>\n",
       "      <th>2</th>\n",
       "      <td>yernagulahemanth</td>\n",
       "      <td>about final project</td>\n",
       "      <td>NaN</td>\n",
       "      <td>c__d</td>\n",
       "      <td>hello</td>\n",
       "      <td>yernagulahemanth can you</td>\n",
       "      <td>emails_/yernagulahemanth/inbox/185.txt</td>\n",
       "      <td>hello yernagulahemanth  can you explain more a...</td>\n",
       "    </tr>\n",
       "    <tr>\n",
       "      <th>3</th>\n",
       "      <td>yernagulahemanth</td>\n",
       "      <td>about final project</td>\n",
       "      <td>NaN</td>\n",
       "      <td>c__d</td>\n",
       "      <td>hello</td>\n",
       "      <td>yernagulahemanth can you explain</td>\n",
       "      <td>emails_/yernagulahemanth/inbox/185.txt</td>\n",
       "      <td>hello yernagulahemanth  can you explain more a...</td>\n",
       "    </tr>\n",
       "    <tr>\n",
       "      <th>4</th>\n",
       "      <td>yernagulahemanth</td>\n",
       "      <td>about final project</td>\n",
       "      <td>NaN</td>\n",
       "      <td>c__d</td>\n",
       "      <td>hello</td>\n",
       "      <td>yernagulahemanth can you explain more</td>\n",
       "      <td>emails_/yernagulahemanth/inbox/185.txt</td>\n",
       "      <td>hello yernagulahemanth  can you explain more a...</td>\n",
       "    </tr>\n",
       "    <tr>\n",
       "      <th>...</th>\n",
       "      <td>...</td>\n",
       "      <td>...</td>\n",
       "      <td>...</td>\n",
       "      <td>...</td>\n",
       "      <td>...</td>\n",
       "      <td>...</td>\n",
       "      <td>...</td>\n",
       "      <td>...</td>\n",
       "    </tr>\n",
       "    <tr>\n",
       "      <th>38865</th>\n",
       "      <td>yernagulahemanth</td>\n",
       "      <td>doubt regarding hstack</td>\n",
       "      <td>NaN</td>\n",
       "      <td>c__d</td>\n",
       "      <td>hello yernagulahemanth please update your code...</td>\n",
       "      <td>call</td>\n",
       "      <td>emails_/yernagulahemanth/inbox/102.txt</td>\n",
       "      <td>hello yernagulahemanth  please update your cod...</td>\n",
       "    </tr>\n",
       "    <tr>\n",
       "      <th>38866</th>\n",
       "      <td>yernagulahemanth</td>\n",
       "      <td>doubt regarding hstack</td>\n",
       "      <td>NaN</td>\n",
       "      <td>c__d</td>\n",
       "      <td>hello yernagulahemanth please update your code...</td>\n",
       "      <td>call</td>\n",
       "      <td>emails_/yernagulahemanth/inbox/102.txt</td>\n",
       "      <td>hello yernagulahemanth  please update your cod...</td>\n",
       "    </tr>\n",
       "    <tr>\n",
       "      <th>38867</th>\n",
       "      <td>yernagulahemanth</td>\n",
       "      <td>doubt regarding hstack</td>\n",
       "      <td>NaN</td>\n",
       "      <td>c__d</td>\n",
       "      <td>hello yernagulahemanth please update your code...</td>\n",
       "      <td>call</td>\n",
       "      <td>emails_/yernagulahemanth/inbox/102.txt</td>\n",
       "      <td>hello yernagulahemanth  please update your cod...</td>\n",
       "    </tr>\n",
       "    <tr>\n",
       "      <th>38868</th>\n",
       "      <td>yernagulahemanth</td>\n",
       "      <td>doubt regarding hstack</td>\n",
       "      <td>NaN</td>\n",
       "      <td>c__d</td>\n",
       "      <td>hello yernagulahemanth please update your code...</td>\n",
       "      <td>call</td>\n",
       "      <td>emails_/yernagulahemanth/inbox/102.txt</td>\n",
       "      <td>hello yernagulahemanth  please update your cod...</td>\n",
       "    </tr>\n",
       "    <tr>\n",
       "      <th>38869</th>\n",
       "      <td>yernagulahemanth</td>\n",
       "      <td>doubt regarding hstack</td>\n",
       "      <td>NaN</td>\n",
       "      <td>c__d</td>\n",
       "      <td>hello yernagulahemanth please update your code...</td>\n",
       "      <td>call</td>\n",
       "      <td>emails_/yernagulahemanth/inbox/102.txt</td>\n",
       "      <td>hello yernagulahemanth  please update your cod...</td>\n",
       "    </tr>\n",
       "  </tbody>\n",
       "</table>\n",
       "<p>38870 rows × 8 columns</p>\n",
       "</div>"
      ],
      "text/plain": [
       "                     To  ...                                            Content\n",
       "0      yernagulahemanth  ...  hello yernagulahemanth  can you explain more a...\n",
       "1      yernagulahemanth  ...  hello yernagulahemanth  can you explain more a...\n",
       "2      yernagulahemanth  ...  hello yernagulahemanth  can you explain more a...\n",
       "3      yernagulahemanth  ...  hello yernagulahemanth  can you explain more a...\n",
       "4      yernagulahemanth  ...  hello yernagulahemanth  can you explain more a...\n",
       "...                 ...  ...                                                ...\n",
       "38865  yernagulahemanth  ...  hello yernagulahemanth  please update your cod...\n",
       "38866  yernagulahemanth  ...  hello yernagulahemanth  please update your cod...\n",
       "38867  yernagulahemanth  ...  hello yernagulahemanth  please update your cod...\n",
       "38868  yernagulahemanth  ...  hello yernagulahemanth  please update your cod...\n",
       "38869  yernagulahemanth  ...  hello yernagulahemanth  please update your cod...\n",
       "\n",
       "[38870 rows x 8 columns]"
      ]
     },
     "execution_count": 86,
     "metadata": {
      "tags": []
     },
     "output_type": "execute_result"
    }
   ],
   "source": [
    "all_samples = []\n",
    "for i in tqdm(os.listdir('joblib'),position = 0):\n",
    "  if os.path.isfile('joblib/'+i):\n",
    "    all_samples.append(joblib.load('joblib/'+i))\n",
    "\n",
    "df_after_sample = pd.DataFrame()\n",
    "df_after_sample = df_after_sample.append([i for i in all_samples])\n",
    "\n",
    "\n",
    "\n",
    "df_after_sample.reset_index(inplace=True)\n",
    "df_after_sample.drop(['index'],inplace=True,axis= 1)\n",
    "df_after_sample"
   ]
  },
  {
   "cell_type": "markdown",
   "metadata": {
    "colab_type": "text",
    "id": "LMccfLjQcY_s"
   },
   "source": [
    "<strong>Lets delete duplicates in dataframe</strong>"
   ]
  },
  {
   "cell_type": "code",
   "execution_count": 0,
   "metadata": {
    "colab": {
     "base_uri": "https://localhost:8080/",
     "height": 52
    },
    "colab_type": "code",
    "id": "_vy3zgmCBJhz",
    "outputId": "01b472a2-6943-49fc-bf5e-037bf3f89e94"
   },
   "outputs": [
    {
     "name": "stdout",
     "output_type": "stream",
     "text": [
      "Shape of data befor dropping duplicates: (38870, 8)\n",
      "Shape of data after dropping duplicates: (37230, 8)\n"
     ]
    }
   ],
   "source": [
    "print('Shape of data befor dropping duplicates:',df_after_sample.shape)\n",
    "df_after_sample = df_after_sample.drop_duplicates()\n",
    "print('Shape of data after dropping duplicates:',df_after_sample.shape)"
   ]
  },
  {
   "cell_type": "code",
   "execution_count": 0,
   "metadata": {
    "colab": {},
    "colab_type": "code",
    "id": "N7Dsz2mAhMbO"
   },
   "outputs": [],
   "source": [
    "df_after_sample.index = [i for i in range(df_after_sample.shape[0])]\n",
    "df_after_sample.to_csv('gdrive/My Drive/google/my_df_after_sample.csv',index=False)"
   ]
  },
  {
   "cell_type": "code",
   "execution_count": 0,
   "metadata": {
    "colab": {},
    "colab_type": "code",
    "id": "vxH9zqsBCxZm"
   },
   "outputs": [],
   "source": [
    "df_after_sample = pd.read_csv('gdrive/My Drive/google/my_df_after_sample.csv')"
   ]
  },
  {
   "cell_type": "code",
   "execution_count": 0,
   "metadata": {
    "colab": {
     "base_uri": "https://localhost:8080/",
     "height": 926
    },
    "colab_type": "code",
    "id": "3o5E42OrhS__",
    "outputId": "ea9bc15d-17be-4b3f-d371-1dadfbdced4d"
   },
   "outputs": [
    {
     "data": {
      "text/html": [
       "<div>\n",
       "<style scoped>\n",
       "    .dataframe tbody tr th:only-of-type {\n",
       "        vertical-align: middle;\n",
       "    }\n",
       "\n",
       "    .dataframe tbody tr th {\n",
       "        vertical-align: top;\n",
       "    }\n",
       "\n",
       "    .dataframe thead th {\n",
       "        text-align: right;\n",
       "    }\n",
       "</style>\n",
       "<table border=\"1\" class=\"dataframe\">\n",
       "  <thead>\n",
       "    <tr style=\"text-align: right;\">\n",
       "      <th></th>\n",
       "      <th>To</th>\n",
       "      <th>Subject</th>\n",
       "      <th>Previous_email</th>\n",
       "      <th>Type</th>\n",
       "      <th>x</th>\n",
       "      <th>y</th>\n",
       "      <th>File_nm</th>\n",
       "      <th>Content</th>\n",
       "    </tr>\n",
       "  </thead>\n",
       "  <tbody>\n",
       "    <tr>\n",
       "      <th>0</th>\n",
       "      <td>yernagulahemanth</td>\n",
       "      <td>about final project</td>\n",
       "      <td>NaN</td>\n",
       "      <td>c__d</td>\n",
       "      <td>hello</td>\n",
       "      <td>yernagulahemanth</td>\n",
       "      <td>emails_/yernagulahemanth/inbox/185.txt</td>\n",
       "      <td>hello yernagulahemanth  can you explain more a...</td>\n",
       "    </tr>\n",
       "    <tr>\n",
       "      <th>1</th>\n",
       "      <td>yernagulahemanth</td>\n",
       "      <td>about final project</td>\n",
       "      <td>NaN</td>\n",
       "      <td>c__d</td>\n",
       "      <td>hello</td>\n",
       "      <td>yernagulahemanth can</td>\n",
       "      <td>emails_/yernagulahemanth/inbox/185.txt</td>\n",
       "      <td>hello yernagulahemanth  can you explain more a...</td>\n",
       "    </tr>\n",
       "    <tr>\n",
       "      <th>2</th>\n",
       "      <td>yernagulahemanth</td>\n",
       "      <td>about final project</td>\n",
       "      <td>NaN</td>\n",
       "      <td>c__d</td>\n",
       "      <td>hello</td>\n",
       "      <td>yernagulahemanth can you</td>\n",
       "      <td>emails_/yernagulahemanth/inbox/185.txt</td>\n",
       "      <td>hello yernagulahemanth  can you explain more a...</td>\n",
       "    </tr>\n",
       "    <tr>\n",
       "      <th>3</th>\n",
       "      <td>yernagulahemanth</td>\n",
       "      <td>about final project</td>\n",
       "      <td>NaN</td>\n",
       "      <td>c__d</td>\n",
       "      <td>hello</td>\n",
       "      <td>yernagulahemanth can you explain</td>\n",
       "      <td>emails_/yernagulahemanth/inbox/185.txt</td>\n",
       "      <td>hello yernagulahemanth  can you explain more a...</td>\n",
       "    </tr>\n",
       "    <tr>\n",
       "      <th>4</th>\n",
       "      <td>yernagulahemanth</td>\n",
       "      <td>about final project</td>\n",
       "      <td>NaN</td>\n",
       "      <td>c__d</td>\n",
       "      <td>hello</td>\n",
       "      <td>yernagulahemanth can you explain more</td>\n",
       "      <td>emails_/yernagulahemanth/inbox/185.txt</td>\n",
       "      <td>hello yernagulahemanth  can you explain more a...</td>\n",
       "    </tr>\n",
       "    <tr>\n",
       "      <th>...</th>\n",
       "      <td>...</td>\n",
       "      <td>...</td>\n",
       "      <td>...</td>\n",
       "      <td>...</td>\n",
       "      <td>...</td>\n",
       "      <td>...</td>\n",
       "      <td>...</td>\n",
       "      <td>...</td>\n",
       "    </tr>\n",
       "    <tr>\n",
       "      <th>37225</th>\n",
       "      <td>yernagulahemanth</td>\n",
       "      <td>doubt regarding hstack</td>\n",
       "      <td>NaN</td>\n",
       "      <td>c__d</td>\n",
       "      <td>hello yernagulahemanth please update your code...</td>\n",
       "      <td>over the</td>\n",
       "      <td>emails_/yernagulahemanth/inbox/102.txt</td>\n",
       "      <td>hello yernagulahemanth  please update your cod...</td>\n",
       "    </tr>\n",
       "    <tr>\n",
       "      <th>37226</th>\n",
       "      <td>yernagulahemanth</td>\n",
       "      <td>doubt regarding hstack</td>\n",
       "      <td>NaN</td>\n",
       "      <td>c__d</td>\n",
       "      <td>hello yernagulahemanth please update your code...</td>\n",
       "      <td>over the call</td>\n",
       "      <td>emails_/yernagulahemanth/inbox/102.txt</td>\n",
       "      <td>hello yernagulahemanth  please update your cod...</td>\n",
       "    </tr>\n",
       "    <tr>\n",
       "      <th>37227</th>\n",
       "      <td>yernagulahemanth</td>\n",
       "      <td>doubt regarding hstack</td>\n",
       "      <td>NaN</td>\n",
       "      <td>c__d</td>\n",
       "      <td>hello yernagulahemanth please update your code...</td>\n",
       "      <td>the</td>\n",
       "      <td>emails_/yernagulahemanth/inbox/102.txt</td>\n",
       "      <td>hello yernagulahemanth  please update your cod...</td>\n",
       "    </tr>\n",
       "    <tr>\n",
       "      <th>37228</th>\n",
       "      <td>yernagulahemanth</td>\n",
       "      <td>doubt regarding hstack</td>\n",
       "      <td>NaN</td>\n",
       "      <td>c__d</td>\n",
       "      <td>hello yernagulahemanth please update your code...</td>\n",
       "      <td>the call</td>\n",
       "      <td>emails_/yernagulahemanth/inbox/102.txt</td>\n",
       "      <td>hello yernagulahemanth  please update your cod...</td>\n",
       "    </tr>\n",
       "    <tr>\n",
       "      <th>37229</th>\n",
       "      <td>yernagulahemanth</td>\n",
       "      <td>doubt regarding hstack</td>\n",
       "      <td>NaN</td>\n",
       "      <td>c__d</td>\n",
       "      <td>hello yernagulahemanth please update your code...</td>\n",
       "      <td>call</td>\n",
       "      <td>emails_/yernagulahemanth/inbox/102.txt</td>\n",
       "      <td>hello yernagulahemanth  please update your cod...</td>\n",
       "    </tr>\n",
       "  </tbody>\n",
       "</table>\n",
       "<p>37230 rows × 8 columns</p>\n",
       "</div>"
      ],
      "text/plain": [
       "                     To  ...                                            Content\n",
       "0      yernagulahemanth  ...  hello yernagulahemanth  can you explain more a...\n",
       "1      yernagulahemanth  ...  hello yernagulahemanth  can you explain more a...\n",
       "2      yernagulahemanth  ...  hello yernagulahemanth  can you explain more a...\n",
       "3      yernagulahemanth  ...  hello yernagulahemanth  can you explain more a...\n",
       "4      yernagulahemanth  ...  hello yernagulahemanth  can you explain more a...\n",
       "...                 ...  ...                                                ...\n",
       "37225  yernagulahemanth  ...  hello yernagulahemanth  please update your cod...\n",
       "37226  yernagulahemanth  ...  hello yernagulahemanth  please update your cod...\n",
       "37227  yernagulahemanth  ...  hello yernagulahemanth  please update your cod...\n",
       "37228  yernagulahemanth  ...  hello yernagulahemanth  please update your cod...\n",
       "37229  yernagulahemanth  ...  hello yernagulahemanth  please update your cod...\n",
       "\n",
       "[37230 rows x 8 columns]"
      ]
     },
     "execution_count": 89,
     "metadata": {
      "tags": []
     },
     "output_type": "execute_result"
    }
   ],
   "source": [
    "df_after_sample"
   ]
  },
  {
   "cell_type": "code",
   "execution_count": 0,
   "metadata": {
    "colab": {},
    "colab_type": "code",
    "id": "OYzepe2UaMrN"
   },
   "outputs": [],
   "source": [
    "data = pd.read_csv('gdrive/My Drive/google/my_df_after_sample.csv')\n"
   ]
  },
  {
   "cell_type": "code",
   "execution_count": 0,
   "metadata": {
    "colab": {
     "base_uri": "https://localhost:8080/",
     "height": 467
    },
    "colab_type": "code",
    "id": "ojnJip_ij3H8",
    "outputId": "b45c8045-65c4-41f9-f3db-cbfa2449acfb"
   },
   "outputs": [
    {
     "data": {
      "text/html": [
       "<div>\n",
       "<style scoped>\n",
       "    .dataframe tbody tr th:only-of-type {\n",
       "        vertical-align: middle;\n",
       "    }\n",
       "\n",
       "    .dataframe tbody tr th {\n",
       "        vertical-align: top;\n",
       "    }\n",
       "\n",
       "    .dataframe thead th {\n",
       "        text-align: right;\n",
       "    }\n",
       "</style>\n",
       "<table border=\"1\" class=\"dataframe\">\n",
       "  <thead>\n",
       "    <tr style=\"text-align: right;\">\n",
       "      <th></th>\n",
       "      <th>To</th>\n",
       "      <th>Subject</th>\n",
       "      <th>Previous_email</th>\n",
       "      <th>Type</th>\n",
       "      <th>x</th>\n",
       "      <th>y</th>\n",
       "      <th>File_nm</th>\n",
       "      <th>Content</th>\n",
       "    </tr>\n",
       "  </thead>\n",
       "  <tbody>\n",
       "    <tr>\n",
       "      <th>0</th>\n",
       "      <td>yernagulahemanth</td>\n",
       "      <td>about final project</td>\n",
       "      <td>NaN</td>\n",
       "      <td>c__d</td>\n",
       "      <td>hello</td>\n",
       "      <td>yernagulahemanth</td>\n",
       "      <td>emails_/yernagulahemanth/inbox/185.txt</td>\n",
       "      <td>hello yernagulahemanth  can you explain more a...</td>\n",
       "    </tr>\n",
       "    <tr>\n",
       "      <th>1</th>\n",
       "      <td>yernagulahemanth</td>\n",
       "      <td>about final project</td>\n",
       "      <td>NaN</td>\n",
       "      <td>c__d</td>\n",
       "      <td>hello</td>\n",
       "      <td>yernagulahemanth can</td>\n",
       "      <td>emails_/yernagulahemanth/inbox/185.txt</td>\n",
       "      <td>hello yernagulahemanth  can you explain more a...</td>\n",
       "    </tr>\n",
       "    <tr>\n",
       "      <th>2</th>\n",
       "      <td>yernagulahemanth</td>\n",
       "      <td>about final project</td>\n",
       "      <td>NaN</td>\n",
       "      <td>c__d</td>\n",
       "      <td>hello</td>\n",
       "      <td>yernagulahemanth can you</td>\n",
       "      <td>emails_/yernagulahemanth/inbox/185.txt</td>\n",
       "      <td>hello yernagulahemanth  can you explain more a...</td>\n",
       "    </tr>\n",
       "    <tr>\n",
       "      <th>3</th>\n",
       "      <td>yernagulahemanth</td>\n",
       "      <td>about final project</td>\n",
       "      <td>NaN</td>\n",
       "      <td>c__d</td>\n",
       "      <td>hello</td>\n",
       "      <td>yernagulahemanth can you explain</td>\n",
       "      <td>emails_/yernagulahemanth/inbox/185.txt</td>\n",
       "      <td>hello yernagulahemanth  can you explain more a...</td>\n",
       "    </tr>\n",
       "    <tr>\n",
       "      <th>4</th>\n",
       "      <td>yernagulahemanth</td>\n",
       "      <td>about final project</td>\n",
       "      <td>NaN</td>\n",
       "      <td>c__d</td>\n",
       "      <td>hello</td>\n",
       "      <td>yernagulahemanth can you explain more</td>\n",
       "      <td>emails_/yernagulahemanth/inbox/185.txt</td>\n",
       "      <td>hello yernagulahemanth  can you explain more a...</td>\n",
       "    </tr>\n",
       "  </tbody>\n",
       "</table>\n",
       "</div>"
      ],
      "text/plain": [
       "                 To  ...                                            Content\n",
       "0  yernagulahemanth  ...  hello yernagulahemanth  can you explain more a...\n",
       "1  yernagulahemanth  ...  hello yernagulahemanth  can you explain more a...\n",
       "2  yernagulahemanth  ...  hello yernagulahemanth  can you explain more a...\n",
       "3  yernagulahemanth  ...  hello yernagulahemanth  can you explain more a...\n",
       "4  yernagulahemanth  ...  hello yernagulahemanth  can you explain more a...\n",
       "\n",
       "[5 rows x 8 columns]"
      ]
     },
     "execution_count": 92,
     "metadata": {
      "tags": []
     },
     "output_type": "execute_result"
    }
   ],
   "source": [
    "data.head()"
   ]
  },
  {
   "cell_type": "markdown",
   "metadata": {
    "colab_type": "text",
    "id": "U76XwfpDctJ_"
   },
   "source": [
    "<strong>Since our main goal is to predict next word(s) when to,sunject,previous email(if any) some  part of content is given so lets featurize in following way</strong>\n",
    "\n",
    "<table>\n",
    "    <tr>\n",
    "      <th>Sentance</th>\n",
    "      <th>Output</th>\n",
    "    </tr>\n",
    "    <tr>\n",
    "      <td> This </td>\n",
    "      <td> is</td>\n",
    "    </tr>\n",
    "    <tr>\n",
    "      <td> This </td>\n",
    "      <td> is introduction </td>\n",
    "    </tr>\n",
    "    <tr>\n",
    "      <td> This </td>\n",
    "      <td> is introduction to</td>\n",
    "    </tr>\n",
    "    <tr>\n",
    "      <td> This </td>\n",
    "      <td> is introduction to my</td>\n",
    "    </tr>\n",
    "    <tr>\n",
    "      <td> This </td>\n",
    "      <td> is introduction to my project</td>\n",
    "    </tr>\n",
    "    <tr>\n",
    "      <td> This is </td>\n",
    "      <td> introduction</td>\n",
    "    </tr>\n",
    "    <tr>\n",
    "      <td> This is</td>\n",
    "      <td> introduction to </td>\n",
    "    </tr>\n",
    "    <tr>\n",
    "      <td> This is </td>\n",
    "      <td> introduction to my</td>\n",
    "    </tr>\n",
    "    <tr>\n",
    "      <td> This is</td>\n",
    "      <td> introduction to my</td>\n",
    "    </tr>\n",
    "    <tr>\n",
    "      <td> This is</td>\n",
    "      <td> introduction to my project</td>\n",
    "    </tr>\n",
    "    <tr>\n",
    "      <td> This is introduction</td>\n",
    "      <td> to</td>\n",
    "    </tr>\n",
    "    <tr>\n",
    "      <td> This is introduction</td>\n",
    "      <td>  to my </td>\n",
    "    </tr>\n",
    "    <tr>\n",
    "      <td> This is introduction </td>\n",
    "      <td> to my project</td>\n",
    "    </tr>\n",
    "    \n",
    "   \n",
    " </table>\n",
    "\n",
    " <strong>Note:</strong><p>Each part is seperated with their tags like < to >< sub >< prv >< cont ></p>"
   ]
  },
  {
   "cell_type": "code",
   "execution_count": 0,
   "metadata": {
    "colab": {},
    "colab_type": "code",
    "id": "uUfnockKV6H2"
   },
   "outputs": [],
   "source": [
    "tspc = [] #  combination of To, Subject, Previous Email(if any), content of email\n",
    "\n",
    "for i in range(data.shape[0]):\n",
    "  tspc.append('<to> ' + str(data.To.iloc[i])+' <prv> '+ str(data.Previous_email.iloc[i])+' <sub> ' +data.Subject.iloc[i] + ' <cont> ' +  data.x.iloc[i])\n",
    "\n"
   ]
  },
  {
   "cell_type": "code",
   "execution_count": 0,
   "metadata": {
    "colab": {
     "base_uri": "https://localhost:8080/",
     "height": 197
    },
    "colab_type": "code",
    "id": "U5xTXALkSeDP",
    "outputId": "eb42f3ab-c6e7-424d-da70-7312a3d86d1f"
   },
   "outputs": [
    {
     "data": {
      "text/html": [
       "<div>\n",
       "<style scoped>\n",
       "    .dataframe tbody tr th:only-of-type {\n",
       "        vertical-align: middle;\n",
       "    }\n",
       "\n",
       "    .dataframe tbody tr th {\n",
       "        vertical-align: top;\n",
       "    }\n",
       "\n",
       "    .dataframe thead th {\n",
       "        text-align: right;\n",
       "    }\n",
       "</style>\n",
       "<table border=\"1\" class=\"dataframe\">\n",
       "  <thead>\n",
       "    <tr style=\"text-align: right;\">\n",
       "      <th></th>\n",
       "      <th>x</th>\n",
       "      <th>y</th>\n",
       "    </tr>\n",
       "  </thead>\n",
       "  <tbody>\n",
       "    <tr>\n",
       "      <th>0</th>\n",
       "      <td>&lt;to&gt; yernagulahemanth &lt;prv&gt; nan &lt;sub&gt;  about f...</td>\n",
       "      <td>yernagulahemanth</td>\n",
       "    </tr>\n",
       "    <tr>\n",
       "      <th>1</th>\n",
       "      <td>&lt;to&gt; yernagulahemanth &lt;prv&gt; nan &lt;sub&gt;  about f...</td>\n",
       "      <td>yernagulahemanth can</td>\n",
       "    </tr>\n",
       "    <tr>\n",
       "      <th>2</th>\n",
       "      <td>&lt;to&gt; yernagulahemanth &lt;prv&gt; nan &lt;sub&gt;  about f...</td>\n",
       "      <td>yernagulahemanth can you</td>\n",
       "    </tr>\n",
       "    <tr>\n",
       "      <th>3</th>\n",
       "      <td>&lt;to&gt; yernagulahemanth &lt;prv&gt; nan &lt;sub&gt;  about f...</td>\n",
       "      <td>yernagulahemanth can you explain</td>\n",
       "    </tr>\n",
       "    <tr>\n",
       "      <th>4</th>\n",
       "      <td>&lt;to&gt; yernagulahemanth &lt;prv&gt; nan &lt;sub&gt;  about f...</td>\n",
       "      <td>yernagulahemanth can you explain more</td>\n",
       "    </tr>\n",
       "  </tbody>\n",
       "</table>\n",
       "</div>"
      ],
      "text/plain": [
       "                                                   x                                      y\n",
       "0  <to> yernagulahemanth <prv> nan <sub>  about f...                       yernagulahemanth\n",
       "1  <to> yernagulahemanth <prv> nan <sub>  about f...                   yernagulahemanth can\n",
       "2  <to> yernagulahemanth <prv> nan <sub>  about f...               yernagulahemanth can you\n",
       "3  <to> yernagulahemanth <prv> nan <sub>  about f...       yernagulahemanth can you explain\n",
       "4  <to> yernagulahemanth <prv> nan <sub>  about f...  yernagulahemanth can you explain more"
      ]
     },
     "execution_count": 94,
     "metadata": {
      "tags": []
     },
     "output_type": "execute_result"
    }
   ],
   "source": [
    "final_data = pd.DataFrame(zip(tspc,data.y.values),columns=['x','y'])\n",
    "final_data.head()"
   ]
  },
  {
   "cell_type": "code",
   "execution_count": 0,
   "metadata": {
    "colab": {
     "base_uri": "https://localhost:8080/",
     "height": 34
    },
    "colab_type": "code",
    "id": "2asZfjpSr7j9",
    "outputId": "3177acdf-b4b8-4263-d9ea-041248d79abb"
   },
   "outputs": [
    {
     "data": {
      "text/plain": [
       "(37230, 2)"
      ]
     },
     "execution_count": 95,
     "metadata": {
      "tags": []
     },
     "output_type": "execute_result"
    }
   ],
   "source": [
    "final_data.to_csv('gdrive/My Drive/google/final_data_my_emails.csv',index=False)\n",
    "final_data.shape"
   ]
  },
  {
   "cell_type": "markdown",
   "metadata": {
    "colab_type": "text",
    "id": "KoxwXMxFeQxa"
   },
   "source": [
    "<strong>Lets apply models in next document</strong>"
   ]
  },
  {
   "cell_type": "code",
   "execution_count": 0,
   "metadata": {
    "colab": {},
    "colab_type": "code",
    "id": "W2OzT8a6eVCI"
   },
   "outputs": [],
   "source": []
  }
 ],
 "metadata": {
  "colab": {
   "collapsed_sections": [],
   "name": "models on google smart composer.ipynb",
   "provenance": []
  },
  "kernelspec": {
   "display_name": "Python 3",
   "language": "python",
   "name": "python3"
  },
  "language_info": {
   "codemirror_mode": {
    "name": "ipython",
    "version": 3
   },
   "file_extension": ".py",
   "mimetype": "text/x-python",
   "name": "python",
   "nbconvert_exporter": "python",
   "pygments_lexer": "ipython3",
   "version": "3.5.3"
  }
 },
 "nbformat": 4,
 "nbformat_minor": 1
}
