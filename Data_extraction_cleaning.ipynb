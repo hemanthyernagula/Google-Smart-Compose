{
 "cells": [
  {
   "cell_type": "code",
   "execution_count": 0,
   "metadata": {
    "colab": {
     "base_uri": "https://localhost:8080/",
     "height": 125
    },
    "colab_type": "code",
    "id": "M8lc2x278ROR",
    "outputId": "e87ce1fc-9ccd-4c18-8a83-f596e4550dcb"
   },
   "outputs": [
    {
     "name": "stdout",
     "output_type": "stream",
     "text": [
      "Go to this URL in a browser: https://accounts.google.com/o/oauth2/auth?client_id=947318989803-6bn6qk8qdgf4n4g3pfee6491hc0brc4i.apps.googleusercontent.com&redirect_uri=urn%3aietf%3awg%3aoauth%3a2.0%3aoob&response_type=code&scope=email%20https%3a%2f%2fwww.googleapis.com%2fauth%2fdocs.test%20https%3a%2f%2fwww.googleapis.com%2fauth%2fdrive%20https%3a%2f%2fwww.googleapis.com%2fauth%2fdrive.photos.readonly%20https%3a%2f%2fwww.googleapis.com%2fauth%2fpeopleapi.readonly\n",
      "\n",
      "Enter your authorization code:\n",
      "··········\n",
      "Mounted at gdrive\n"
     ]
    }
   ],
   "source": [
    "from google.colab import drive\n",
    "drive.mount('gdrive',force_remount=True)\n"
   ]
  },
  {
   "cell_type": "code",
   "execution_count": 0,
   "metadata": {
    "colab": {},
    "colab_type": "code",
    "id": "7HXlvsqV9Qbw"
   },
   "outputs": [],
   "source": [
    "import os\n",
    "import cv2\n",
    "import json\n",
    "import re\n",
    "import shutil\n",
    "import numpy as np\n",
    "import tarfile\n",
    "import pickle\n",
    "from bs4 import BeautifulSoup\n",
    "import sys\n",
    "import joblib\n",
    "from functools import reduce\n",
    "import operator\n",
    "import multiprocessing\n",
    "\n",
    "\n",
    "import random\n",
    "\n",
    "from matplotlib import patches\n",
    "from itertools import chain\n",
    "import datetime\n",
    "from tqdm import tqdm\n",
    "from zipfile import ZipFile\n",
    "\n",
    "\n",
    "%matplotlib inline\n",
    "import seaborn as sns\n",
    "import matplotlib.pyplot as plt\n",
    "import pandas as pd\n",
    "\n",
    "import numpy as np\n",
    "from pathlib import Path\n"
   ]
  },
  {
   "cell_type": "markdown",
   "metadata": {
    "colab_type": "text",
    "id": "v38r5gd_urrr"
   },
   "source": [
    "## Extracting data from zip file"
   ]
  },
  {
   "cell_type": "code",
   "execution_count": 0,
   "metadata": {
    "colab": {
     "base_uri": "https://localhost:8080/",
     "height": 52
    },
    "colab_type": "code",
    "id": "2X6ub5KJlC3w",
    "outputId": "6fd04483-5795-4e77-c26f-b50b97d1a165"
   },
   "outputs": [
    {
     "name": "stdout",
     "output_type": "stream",
     "text": [
      "CPU times: user 1.49 s, sys: 641 ms, total: 2.13 s\n",
      "Wall time: 3.88 s\n"
     ]
    }
   ],
   "source": [
    "%%time\n",
    "# Extracting Data\n",
    "with ZipFile('gdrive/My Drive/emails_.zip') as f:\n",
    "  f.extractall()"
   ]
  },
  {
   "cell_type": "code",
   "execution_count": 0,
   "metadata": {
    "colab": {
     "base_uri": "https://localhost:8080/",
     "height": 34
    },
    "colab_type": "code",
    "id": "_t9pdgIGlCb8",
    "outputId": "f43242ea-a518-462f-d672-62016cfaeace"
   },
   "outputs": [
    {
     "name": "stdout",
     "output_type": "stream",
     "text": [
      "2\n"
     ]
    }
   ],
   "source": [
    "# Checking number of folders in maildir\n",
    "\n",
    "maildir_l = os.listdir('emails_')\n",
    "print(len(maildir_l))"
   ]
  },
  {
   "cell_type": "markdown",
   "metadata": {},
   "source": [
    "<strong>Below is sample email from a notpad</strong>"
   ]
  },
  {
   "cell_type": "code",
   "execution_count": 0,
   "metadata": {
    "colab": {
     "base_uri": "https://localhost:8080/",
     "height": 392
    },
    "colab_type": "code",
    "id": "i2BLRacswWhw",
    "outputId": "1e6bb997-f5d8-485a-f8ff-5bc537d6d1cd"
   },
   "outputs": [
    {
     "name": "stdout",
     "output_type": "stream",
     "text": [
      "To: Applied Course <team@appliedaicourse.com>\n",
      " From: Hemanth Yernagula <yernagulahemanth@gmail.com>\n",
      " Subject: Re: Doubt regarding Self driving car\n",
      " I think my model is over fitting because I'm getting =\n",
      " 1.7 as predicted angle for all the data points On Sun, 22 Sep 2019, 1:10 pm =\n",
      " Hemanth Yernagula, < yernag=\n",
      " ulahemanth@gmail.com > wrote: Thanks a lot.=C2=A0 = On Sun, 22 Sep 2019, 12:54 pm Applied=\n",
      "  AI Course, < team@appliedaicourse.com > wrote: Hi Hemanth, 1.In v=\n",
      " ideo sir asked to change activation function in final layer right? So can I=\n",
      "  remove atan and ruin the model? Yes, remove the atan function 2. Sir asked t=\n",
      " o change dropout rate to 0.5 right?I changed keep prob to 0.5, am I correct=\n",
      " ? And should I change remaining keep probs also Change remaining keep probs to 0.5 3.I trained m=\n",
      " y model in Collab notebook(with you) and downloaded the model file to my lo=\n",
      " cal system(Local system dues not have gpu) and pasted in save folder when I=\n",
      "  run \"run. Py\" file I'm getting error as illegal instruction =\n",
      " what shall I do? Is there any way to run this file also in Collab notebook?= In colab, you can't get video. Instead of=\n",
      "  video, please print actual and predicted steering wheel angles and upload =\n",
      " screenshots when you submit assignments = Thank you\n",
      " CType: text/html\n",
      "\n"
     ]
    }
   ],
   "source": [
    "with open('emails_/yernagulahemanth/sent/112.txt','r') as f:\n",
    "  print(' '.join(f.readlines()))"
   ]
  },
  {
   "cell_type": "markdown",
   "metadata": {
    "colab_type": "text",
    "id": "SJYnvpuRu68o"
   },
   "source": [
    "<strong>Extracted emaill are stored in notepad, some time each notepad is having many number of threads i.e reply to that perticular email is also in same notepad, what I observed is emails are seperated my 'wrote:' as shown in above so we shall find out such emails and consider each thread as seperate email. Along with email there is lot of noise</strong>"
   ]
  },
  {
   "cell_type": "code",
   "execution_count": 0,
   "metadata": {
    "colab": {},
    "colab_type": "code",
    "id": "VK4tlcW_f3Od"
   },
   "outputs": [],
   "source": [
    "def mkprts(path):\n",
    "        '''If the path of email(txt file) is passed this returns the number\n",
    "           of emails present in that file.For exammple in same file if there \n",
    "           is original email and its replay then it is considered as two emails\n",
    "           and returns index point of those two emails.For any reason if file is\n",
    "           not readable function switches to exception part and prints the file name\n",
    "           along with it\\'s path\n",
    "        '''\n",
    "        \n",
    "        parts = []\n",
    "        try:\n",
    "            with open(path,'r') as file:\n",
    "                  \n",
    "                  lines = file.readlines()\n",
    "                  start = 0\n",
    "                  first_time = 1\n",
    "                  for k,i in enumerate(lines):\n",
    "                      if any(j == 'wrote:' for j in i.split()):\n",
    "                            if first_time:\n",
    "                                first_time = 0\n",
    "                                continue\n",
    "\n",
    "                            \n",
    "                            parts.append((start,k))\n",
    "                            start = 0\n",
    "                            start +=k\n",
    "                            \n",
    "\n",
    "                  if k < len(lines):\n",
    "\n",
    "                            parts.append((start,len(lines)))\n",
    "        except Exception as e:\n",
    "          print('AT {} {}'.format(path,e))\n",
    "\n",
    "        return parts\n"
   ]
  },
  {
   "cell_type": "code",
   "execution_count": 0,
   "metadata": {
    "colab": {},
    "colab_type": "code",
    "id": "h9AcEC5z_Eu8"
   },
   "outputs": [],
   "source": [
    "def return_tag_wise(lines):\n",
    "        '''\n",
    "        Given lines of email function detects to,from subject and content of email and returns a dictionary\n",
    "        of  to, subject,from and content and applies basic operations on content part.\n",
    "        '''\n",
    "        to_ = []    \n",
    "        from_ = []\n",
    "        subj = []\n",
    "        content = []\n",
    "        not_in = ['To:','From:','Subject:','CType:']\n",
    "        for i in range(len(lines)):\n",
    "            if not any([j in lines[i] for j in not_in]):\n",
    "                   content.append(re.sub(r'=\\n','',lines[i]))\n",
    "            elif 'To:' in lines[i]:\n",
    "                to_.append(lines[i])\n",
    "            elif 'From:' in lines[i]:\n",
    "                from_.append(lines[i])\n",
    "            elif 'Subject:' in lines[i]:\n",
    "                subj.append(lines[i])\n",
    "        return {'to':to_[0],'from':from_[0],'subj':subj[0],'content':BeautifulSoup(clean_stage_1(''.join(content)),\"html.parser\").get_text(),'prev_email':'nan'}\n",
    "\n",
    "\n",
    "\n",
    "def clean_stage_1(str_):\n",
    "    '''\n",
    "    Applies basic cleaning operations\n",
    "\n",
    "    '''\n",
    "\n",
    "    string = str_.lower()\n",
    "    string = re.sub(r'=\\d\\w',' ',string)\n",
    "    string = re.sub(r'=\\w\\d',' ',string)\n",
    "    string = re.sub(r'\\\\n\\\\n','',string)\n",
    "    string = re.sub(r'<=\\w+\">','',string)\n",
    "    string = re.sub(r'\\\\n','',string)\n",
    "    string = re.sub(r'\\\\r','',string)\n",
    "    string = re.sub(r' \\\\=\\\\r\\\\n','',string)\n",
    "    string = re.sub(r'=c2=a0',' ',string)\n",
    "    string = re.sub(r'=e2=80=99',\"'\",string)\n",
    "    string = re.sub(r\"shouldn't\",\"should not\",string)\n",
    "    string = re.sub(r\"i'm\",\"i am\",string)\n",
    "    string = re.sub(r\"i'll\",\"i will\",string)\n",
    "    string = re.sub(r\"'\",\"\",string)\n",
    "    string = re.sub(r\"=\",\"\",string)\n",
    "    string = re.sub(r\"  \",\" \",string)\n",
    "    string = re.sub(r'\\s+',' ',string)\n",
    "\n",
    "    \n",
    "    return string"
   ]
  },
  {
   "cell_type": "markdown",
   "metadata": {
    "colab": {},
    "colab_type": "code",
    "id": "C7T1Dmp1JFba"
   },
   "source": [
    "## Getting DataFrame From Text Files"
   ]
  },
  {
   "cell_type": "code",
   "execution_count": 0,
   "metadata": {
    "colab": {
     "base_uri": "https://localhost:8080/",
     "height": 34
    },
    "colab_type": "code",
    "id": "ffAClG0vJFK4",
    "outputId": "6999b826-f9b4-44c7-d3f0-bd12ac6692d1"
   },
   "outputs": [
    {
     "name": "stdout",
     "output_type": "stream",
     "text": [
      "Total number of files failed to read 0\n"
     ]
    }
   ],
   "source": [
    "class AsignData:\n",
    "\n",
    "      def __init__(self,to=[],subject=[],previous_content=[],content=[]):\n",
    "            '''\n",
    "            Each email is considered as each object and assigned to \n",
    "            its corresponding to,from,subject,content and so on\n",
    "            '''\n",
    "            \n",
    "            self.to = []\n",
    "            self.from_=[]\n",
    "            self.type_ =[]\n",
    "            self.subject = []\n",
    "            self.prv_cntt= []\n",
    "            self.content = []\n",
    "            self.file_nm = []\n",
    "\n",
    "      def get_data(self):\n",
    "           return self.to,self.subject,self.prv_cntt,self.content,self.type_,self.file_nm,self.from_\n",
    "#__________________________________________________________________________________\n",
    "\n",
    "\n",
    "data1   = {}\n",
    "to_     = []\n",
    "frm     = []\n",
    "subject_= []\n",
    "type_   = []\n",
    "content_= []\n",
    "prv_content_ =  []\n",
    "file_name = []\n",
    "count = 0\n",
    "cc = 0\n",
    "def extract_data(p):\n",
    "        '''\n",
    "        Given a directory of notepad having emails, extracts fiels of \n",
    "        email and returns a list of dictionaries of eamils, if the path \n",
    "        provided is directory itterates through this function until it \n",
    "        reaches the email files\n",
    "        '''\n",
    "        sys.stdout.write('\\r')\n",
    "        l = []\n",
    "        if os.path.isdir(p):\n",
    "              p_l = os.listdir(p)\n",
    "              \n",
    "              for i in p_l:\n",
    "                \n",
    "                extract_data(p +'/' + i)\n",
    "        elif os.path.isfile(p):\n",
    "   \n",
    "              try:\n",
    "                  \n",
    "                with open(os.path.join(p),'r') as file:\n",
    "                    # file = file.astype('U')\n",
    "                    # print(p)\n",
    "                    lines = file.readlines()\n",
    "\n",
    "                    tag_wise = return_tag_wise(lines)\n",
    "\n",
    "                    l =[]\n",
    "                    global count\n",
    "                    \n",
    "                    # if the content is having wrote: then it is considered as replied email\n",
    "\n",
    "                    parts = tag_wise['content'].split('wrote:')\n",
    "                    \n",
    "                    l = [AsignData()  for i in range(len(parts))]\n",
    "\n",
    "                    for j,k in enumerate(reversed(parts)):\n",
    "                        if len(parts) == 0:\n",
    "                            if j == 0:\n",
    "                                l[j].to         = tag_wise['to']\n",
    "                                l[j].from_      = tag_wise['from']\n",
    "                                l[j].subject    = tag_wise['subj']\n",
    "                                l[j].content    = k\n",
    "                                l[j].file_nm    = p\n",
    "                                l[j].type_      = 'c__d'\n",
    "                                l[j].prv_cntt   = 'nan'\n",
    "                                \n",
    "                        else:\n",
    "                            if j == 0:\n",
    "                                  l[j].to         = tag_wise['to']\n",
    "                                  l[j].from_      = tag_wise['from']\n",
    "                                  l[j].subject    = tag_wise['subj']\n",
    "                                  l[j].content    = k\n",
    "                                  l[j].file_nm    = p\n",
    "                                  l[j].type_      = 'c__d'\n",
    "                                  l[j].prv_cntt   = 'nan'\n",
    "                            else:  \n",
    "                                  l[j].to         = tag_wise['from']\n",
    "                                  l[j].from_      = tag_wise['to']\n",
    "                                  l[j].subject    = tag_wise['subj']\n",
    "                                  l[j].content    = k\n",
    "                                  l[j].file_nm    = p\n",
    "                                  l[j].type_      = 'r__y'\n",
    "                                  l[j].prv_cntt   = l[j-1].content\n",
    "              except Exception as e:\n",
    "                  global cc\n",
    "                  cc += 1\n",
    "                  print(e)\n",
    "                  sys.stdout.write('\\nAt {}'.format(p))\n",
    "     \n",
    "        \n",
    "        for i in range(len(l)):\n",
    "              d = l[i].get_data()\n",
    "              to_.append(d[1])\n",
    "              subject_.append(d[2])\n",
    "              prv_content_.append(d[3])\n",
    "              content_.append(d[4])\n",
    "              type_.append(d[5])\n",
    "              file_name.append(d[6])\n",
    "              frm.append(d[7])\n",
    "\n",
    "        \n",
    "        data1['File_name'] = file_name\n",
    "        data1['To']   = to_\n",
    "        data1['From'] = frm\n",
    "        data1['Subject']  = subject_\n",
    "        data1['Prvious_email']   = prv_content_\n",
    "        data1['Content']   = content_\n",
    "        data1['Type'] = type_\n",
    "       \n",
    "        return data1\n",
    "\n",
    "DATA = pd.DataFrame(extract_data('emails_/yernagulahemanth'))\n",
    "print('Total number of files failed to read',cc)\n"
   ]
  },
  {
   "cell_type": "code",
   "execution_count": 0,
   "metadata": {
    "colab": {
     "base_uri": "https://localhost:8080/",
     "height": 1000
    },
    "colab_type": "code",
    "id": "7Mkmc5ScjjD0",
    "outputId": "fe5b835b-e29a-4d4e-8fe5-654b3bf6c23a"
   },
   "outputs": [
    {
     "data": {
      "text/html": [
       "<div>\n",
       "<style scoped>\n",
       "    .dataframe tbody tr th:only-of-type {\n",
       "        vertical-align: middle;\n",
       "    }\n",
       "\n",
       "    .dataframe tbody tr th {\n",
       "        vertical-align: top;\n",
       "    }\n",
       "\n",
       "    .dataframe thead th {\n",
       "        text-align: right;\n",
       "    }\n",
       "</style>\n",
       "<table border=\"1\" class=\"dataframe\">\n",
       "  <thead>\n",
       "    <tr style=\"text-align: right;\">\n",
       "      <th></th>\n",
       "      <th>File_name</th>\n",
       "      <th>To</th>\n",
       "      <th>From</th>\n",
       "      <th>Subject</th>\n",
       "      <th>Prvious_email</th>\n",
       "      <th>Content</th>\n",
       "      <th>Type</th>\n",
       "    </tr>\n",
       "  </thead>\n",
       "  <tbody>\n",
       "    <tr>\n",
       "      <th>0</th>\n",
       "      <td>emails_/yernagulahemanth/inbox/355.txt</td>\n",
       "      <td>To: yernagulahemanth@gmail.com\\n</td>\n",
       "      <td>From: team@appliedaicourse.com\\n</td>\n",
       "      <td>Subject: Applied Course: Microsoft Malware det...</td>\n",
       "      <td>nan</td>\n",
       "      <td>aaic classroom app hi hemanth yernagula, a com...</td>\n",
       "      <td>c__d</td>\n",
       "    </tr>\n",
       "    <tr>\n",
       "      <th>1</th>\n",
       "      <td>emails_/yernagulahemanth/inbox/274.txt</td>\n",
       "      <td>To: yernagulahemanth@gmail.com\\n</td>\n",
       "      <td>From: Sk Shiraj &lt;skshirajblog@gmail.com&gt;\\n</td>\n",
       "      <td>Subject: Fwd: Assignment-3: Apply k-Nearest Ne...</td>\n",
       "      <td>nan</td>\n",
       "      <td>nan</td>\n",
       "      <td>c__d</td>\n",
       "    </tr>\n",
       "    <tr>\n",
       "      <th>2</th>\n",
       "      <td>emails_/yernagulahemanth/inbox/318.txt</td>\n",
       "      <td>To: yernagulahemanth@gmail.com\\n</td>\n",
       "      <td>From: Heroku &lt;noreply@heroku.com&gt;\\n</td>\n",
       "      <td>Subject: Confirm your account on Heroku\\n</td>\n",
       "      <td>nan</td>\n",
       "      <td>thanks for signing up with heroku! you must fo...</td>\n",
       "      <td>c__d</td>\n",
       "    </tr>\n",
       "    <tr>\n",
       "      <th>3</th>\n",
       "      <td>emails_/yernagulahemanth/inbox/42.txt</td>\n",
       "      <td>To: Hemanth Yernagula &lt;yernagulahemanth@gmail....</td>\n",
       "      <td>From: Hemanth Yernagula &lt;yernagulahemanth@gmai...</td>\n",
       "      <td>Subject: 2017-18 ScholerShip Doc\\n</td>\n",
       "      <td>nan</td>\n",
       "      <td>nan</td>\n",
       "      <td>c__d</td>\n",
       "    </tr>\n",
       "    <tr>\n",
       "      <th>4</th>\n",
       "      <td>emails_/yernagulahemanth/inbox/58.txt</td>\n",
       "      <td>To: Hemanth Yernagula &lt;yernagulahemanth@gmail....</td>\n",
       "      <td>From: Applied Course &lt;team@appliedaicourse.com&gt;\\n</td>\n",
       "      <td>Subject: Re: Doubt regarding sorting of words ...</td>\n",
       "      <td>nan</td>\n",
       "      <td>can you print(w.sort())</td>\n",
       "      <td>c__d</td>\n",
       "    </tr>\n",
       "    <tr>\n",
       "      <th>...</th>\n",
       "      <td>...</td>\n",
       "      <td>...</td>\n",
       "      <td>...</td>\n",
       "      <td>...</td>\n",
       "      <td>...</td>\n",
       "      <td>...</td>\n",
       "      <td>...</td>\n",
       "    </tr>\n",
       "    <tr>\n",
       "      <th>691</th>\n",
       "      <td>emails_/yernagulahemanth/sent/66.txt</td>\n",
       "      <td>To: Applied AI Course &lt;team@appliedaicourse.co...</td>\n",
       "      <td>From: Hemanth Yernagula &lt;yernagulahemanth@gmai...</td>\n",
       "      <td>Subject: Re: Doubt regarding Naive Bayes Assig...</td>\n",
       "      <td>nan</td>\n",
       "      <td>hi hemanth, # top positive features pos_featu...</td>\n",
       "      <td>c__d</td>\n",
       "    </tr>\n",
       "    <tr>\n",
       "      <th>692</th>\n",
       "      <td>emails_/yernagulahemanth/sent/66.txt</td>\n",
       "      <td>From: Hemanth Yernagula &lt;yernagulahemanth@gmai...</td>\n",
       "      <td>To: Applied AI Course &lt;team@appliedaicourse.co...</td>\n",
       "      <td>Subject: Re: Doubt regarding Naive Bayes Assig...</td>\n",
       "      <td>hi hemanth, # top positive features pos_featu...</td>\n",
       "      <td>thanks a lot. but why my code did not work and...</td>\n",
       "      <td>r__y</td>\n",
       "    </tr>\n",
       "    <tr>\n",
       "      <th>693</th>\n",
       "      <td>emails_/yernagulahemanth/sent/14.txt</td>\n",
       "      <td>To: sheiksaleemraza@gmail.com\\n</td>\n",
       "      <td>From: Hemanth Yernagula &lt;yernagulahemanth@gmai...</td>\n",
       "      <td>Subject: NATS DOCS\\n</td>\n",
       "      <td>nan</td>\n",
       "      <td>nan</td>\n",
       "      <td>c__d</td>\n",
       "    </tr>\n",
       "    <tr>\n",
       "      <th>694</th>\n",
       "      <td>emails_/yernagulahemanth/sent/105.txt</td>\n",
       "      <td>To: Applied AI Course &lt;team@appliedaicourse.co...</td>\n",
       "      <td>From: Hemanth Yernagula &lt;yernagulahemanth@gmai...</td>\n",
       "      <td>Subject: Re: Doubt in cnn input shape error\\n</td>\n",
       "      <td>nan</td>\n",
       "      <td>could you please go through this link: https:...</td>\n",
       "      <td>c__d</td>\n",
       "    </tr>\n",
       "    <tr>\n",
       "      <th>695</th>\n",
       "      <td>emails_/yernagulahemanth/sent/105.txt</td>\n",
       "      <td>From: Hemanth Yernagula &lt;yernagulahemanth@gmai...</td>\n",
       "      <td>To: Applied AI Course &lt;team@appliedaicourse.co...</td>\n",
       "      <td>Subject: Re: Doubt in cnn input shape error\\n</td>\n",
       "      <td>could you please go through this link: https:...</td>\n",
       "      <td>even though after converting y labels to one-h...</td>\n",
       "      <td>r__y</td>\n",
       "    </tr>\n",
       "  </tbody>\n",
       "</table>\n",
       "<p>696 rows × 7 columns</p>\n",
       "</div>"
      ],
      "text/plain": [
       "                                  File_name  ...  Type\n",
       "0    emails_/yernagulahemanth/inbox/355.txt  ...  c__d\n",
       "1    emails_/yernagulahemanth/inbox/274.txt  ...  c__d\n",
       "2    emails_/yernagulahemanth/inbox/318.txt  ...  c__d\n",
       "3     emails_/yernagulahemanth/inbox/42.txt  ...  c__d\n",
       "4     emails_/yernagulahemanth/inbox/58.txt  ...  c__d\n",
       "..                                      ...  ...   ...\n",
       "691    emails_/yernagulahemanth/sent/66.txt  ...  c__d\n",
       "692    emails_/yernagulahemanth/sent/66.txt  ...  r__y\n",
       "693    emails_/yernagulahemanth/sent/14.txt  ...  c__d\n",
       "694   emails_/yernagulahemanth/sent/105.txt  ...  c__d\n",
       "695   emails_/yernagulahemanth/sent/105.txt  ...  r__y\n",
       "\n",
       "[696 rows x 7 columns]"
      ]
     },
     "execution_count": 32,
     "metadata": {
      "tags": []
     },
     "output_type": "execute_result"
    }
   ],
   "source": [
    "DATA"
   ]
  },
  {
   "cell_type": "markdown",
   "metadata": {
    "colab_type": "text",
    "id": "Zz_XNlpYBPic"
   },
   "source": [
    "## Cleaning Data\n",
    "<ol>\n",
    "  <li>Email that are not having content part is removed</li>\n",
    "  <li>Any special characters from the subject or previous email or content part</li>\n",
    "  <li>Only name part in email is considered i.e for example only myname is considered from myname@project.com</li>\n",
    "\n",
    "  "
   ]
  },
  {
   "cell_type": "code",
   "execution_count": 0,
   "metadata": {
    "colab": {
     "base_uri": "https://localhost:8080/",
     "height": 34
    },
    "colab_type": "code",
    "id": "FGQ2-fdmYg2h",
    "outputId": "a034e77a-9f92-423c-b249-5b0689262b5e"
   },
   "outputs": [
    {
     "name": "stdout",
     "output_type": "stream",
     "text": [
      "Shape of the data after removing \"nan\" content (531, 7)\n"
     ]
    }
   ],
   "source": [
    "DATA  = DATA[DATA.Content != 'nan ']\n",
    "DATA.index = [i for i in range(DATA.shape[0])]\n",
    "print('Shape of the data after removing \"nan\" content',DATA.shape)"
   ]
  },
  {
   "cell_type": "code",
   "execution_count": 0,
   "metadata": {
    "colab": {},
    "colab_type": "code",
    "id": "w1TmeM2huFUd"
   },
   "outputs": [],
   "source": [
    "# saving file\n",
    "\n",
    "DATA.to_csv('gdrive/My Drive/google/DATA.csv',index=False)"
   ]
  },
  {
   "cell_type": "code",
   "execution_count": 0,
   "metadata": {
    "colab": {
     "base_uri": "https://localhost:8080/",
     "height": 34
    },
    "colab_type": "code",
    "id": "AAr06XiA94OU",
    "outputId": "d5ed5647-6b14-4aaf-bb66-35cc041647b3"
   },
   "outputs": [
    {
     "name": "stdout",
     "output_type": "stream",
     "text": [
      "Shape of data: (531, 7)\n"
     ]
    }
   ],
   "source": [
    "final_data_unprocessed = pd.read_csv('gdrive/My Drive/google/DATA.csv')\n",
    "print('Shape of data:',final_data_unprocessed.shape)"
   ]
  },
  {
   "cell_type": "code",
   "execution_count": 0,
   "metadata": {
    "colab": {},
    "colab_type": "code",
    "id": "PS-tqVjM5wzW"
   },
   "outputs": [],
   "source": [
    "# final_data_unprocessed = DATA.copy()"
   ]
  },
  {
   "cell_type": "code",
   "execution_count": 0,
   "metadata": {
    "colab": {
     "base_uri": "https://localhost:8080/",
     "height": 367
    },
    "colab_type": "code",
    "id": "yOEhar2So4eg",
    "outputId": "c9927191-6d95-4144-f8c1-7a794edfbba7"
   },
   "outputs": [
    {
     "data": {
      "text/html": [
       "<div>\n",
       "<style scoped>\n",
       "    .dataframe tbody tr th:only-of-type {\n",
       "        vertical-align: middle;\n",
       "    }\n",
       "\n",
       "    .dataframe tbody tr th {\n",
       "        vertical-align: top;\n",
       "    }\n",
       "\n",
       "    .dataframe thead th {\n",
       "        text-align: right;\n",
       "    }\n",
       "</style>\n",
       "<table border=\"1\" class=\"dataframe\">\n",
       "  <thead>\n",
       "    <tr style=\"text-align: right;\">\n",
       "      <th></th>\n",
       "      <th>File_name</th>\n",
       "      <th>To</th>\n",
       "      <th>From</th>\n",
       "      <th>Subject</th>\n",
       "      <th>Prvious_email</th>\n",
       "      <th>Content</th>\n",
       "      <th>Type</th>\n",
       "    </tr>\n",
       "  </thead>\n",
       "  <tbody>\n",
       "    <tr>\n",
       "      <th>0</th>\n",
       "      <td>emails_/yernagulahemanth/inbox/355.txt</td>\n",
       "      <td>To: yernagulahemanth@gmail.com\\n</td>\n",
       "      <td>From: team@appliedaicourse.com\\n</td>\n",
       "      <td>Subject: Applied Course: Microsoft Malware det...</td>\n",
       "      <td>nan</td>\n",
       "      <td>aaic classroom app hi hemanth yernagula, a com...</td>\n",
       "      <td>c__d</td>\n",
       "    </tr>\n",
       "    <tr>\n",
       "      <th>1</th>\n",
       "      <td>emails_/yernagulahemanth/inbox/318.txt</td>\n",
       "      <td>To: yernagulahemanth@gmail.com\\n</td>\n",
       "      <td>From: Heroku &lt;noreply@heroku.com&gt;\\n</td>\n",
       "      <td>Subject: Confirm your account on Heroku\\n</td>\n",
       "      <td>nan</td>\n",
       "      <td>thanks for signing up with heroku! you must fo...</td>\n",
       "      <td>c__d</td>\n",
       "    </tr>\n",
       "    <tr>\n",
       "      <th>2</th>\n",
       "      <td>emails_/yernagulahemanth/inbox/58.txt</td>\n",
       "      <td>To: Hemanth Yernagula &lt;yernagulahemanth@gmail....</td>\n",
       "      <td>From: Applied Course &lt;team@appliedaicourse.com&gt;\\n</td>\n",
       "      <td>Subject: Re: Doubt regarding sorting of words ...</td>\n",
       "      <td>nan</td>\n",
       "      <td>can you print(w.sort())</td>\n",
       "      <td>c__d</td>\n",
       "    </tr>\n",
       "    <tr>\n",
       "      <th>3</th>\n",
       "      <td>emails_/yernagulahemanth/inbox/38.txt</td>\n",
       "      <td>To: \"Hemanth Yernagula\" &lt;yernagulahemanth@gmai...</td>\n",
       "      <td>From: \"Jigsaw Academy\" &lt;info@jigsawacademy.com&gt;\\n</td>\n",
       "      <td>Subject: Your Inbox, Your Content - Jigsaw Aca...</td>\n",
       "      <td>nan</td>\n",
       "      <td>hello, how re things? we, at jigsaw academy...</td>\n",
       "      <td>c__d</td>\n",
       "    </tr>\n",
       "    <tr>\n",
       "      <th>4</th>\n",
       "      <td>emails_/yernagulahemanth/inbox/160.txt</td>\n",
       "      <td>To: yernagulahemanth@gmail.com\\n</td>\n",
       "      <td>From: \"Applied AI Course (Classroom)\" &lt;no-repl...</td>\n",
       "      <td>Subject: =?UTF-8?Q?Applied_AI_Course_added_a_p...</td>\n",
       "      <td>nan</td>\n",
       "      <td>?utf-8?q?ment 7 _apply_svm_on_donors ?hi hema...</td>\n",
       "      <td>c__d</td>\n",
       "    </tr>\n",
       "  </tbody>\n",
       "</table>\n",
       "</div>"
      ],
      "text/plain": [
       "                                File_name  ...  Type\n",
       "0  emails_/yernagulahemanth/inbox/355.txt  ...  c__d\n",
       "1  emails_/yernagulahemanth/inbox/318.txt  ...  c__d\n",
       "2   emails_/yernagulahemanth/inbox/58.txt  ...  c__d\n",
       "3   emails_/yernagulahemanth/inbox/38.txt  ...  c__d\n",
       "4  emails_/yernagulahemanth/inbox/160.txt  ...  c__d\n",
       "\n",
       "[5 rows x 7 columns]"
      ]
     },
     "execution_count": 24,
     "metadata": {
      "tags": []
     },
     "output_type": "execute_result"
    }
   ],
   "source": [
    "final_data_unprocessed.head(5)"
   ]
  },
  {
   "cell_type": "code",
   "execution_count": 0,
   "metadata": {
    "colab": {},
    "colab_type": "code",
    "id": "nSX4biJh4ptJ"
   },
   "outputs": [],
   "source": [
    "n_points = 0\n",
    "def clean_string(sentance,type_):\n",
    "    '''When a string is passed to this function and if type of the string is given like content\n",
    "    of the email, subject  of the email then the clean string is returned'''\n",
    "    global n_points\n",
    "    # if any(sentance):\n",
    "    \n",
    "    sentance = str(sentance)\n",
    "    # print('\\n\\nstarting sent',sentance)\n",
    "    sys.stdout.write('{} Remaining-{}'.format(type_,n_points))\n",
    "    \n",
    "    \n",
    "    sentance = sentance.lower()\n",
    "    sentance = re.sub(r'=\\?utf-8\\?q\\?\\w*','',sentance)\n",
    "    sentance = re.sub(r'=\\?utf-8\\?b\\?\\w*','',sentance)\n",
    "    sentance = re.sub(r'\\\\r','',sentance)\n",
    "    sentance = re.sub(r'\\\\n','',sentance)\n",
    "    sentance = re.sub(r'\\\\b','',sentance)\n",
    "    sentance = re.sub(r'\\\\t','',sentance)\n",
    "    sentance = re.sub(r\"to:\",'',sentance)\n",
    "    sentance = re.sub(r\"from:\",'',sentance)\n",
    "    sentance = re.sub(r\"subject:\",'',sentance)\n",
    "    sentance = re.sub(r\"won't\", \"will not\", sentance)\n",
    "    sentance = re.sub(r\"what's\", \"whats\", sentance)\n",
    "    sentance = re.sub(r\"email's\", \"emails\", sentance)\n",
    "    sentance = re.sub(r\"can\\'t\", \"can not\", sentance)\n",
    "    sentance = re.sub(r\"\\'ve\", \" have\", sentance)\n",
    "    sentance = re.sub(r'^https?:\\/\\/.*[\\r\\n]*',' ',sentance)\n",
    "    sentance = re.sub(r\"^(https?:\\/\\/)?([\\da-z\\.-]+)\\.([a-z\\.]{2,6})([\\/\\w \\.-]*)\\/?$\",' ',sentance)\n",
    "    sentance = re.sub(r\"\\'m\", \" am\", sentance)\n",
    "    sentance = re.sub(r\"=?utf-8?q?\", \" \", sentance)\n",
    "    sentance = re.sub(r\"=?utf-8?\", \" \", sentance)\n",
    "    \n",
    "    sentance = re.sub(r\"\\'d\", \" would\", sentance)\n",
    "    sentance = re.sub(r\"\\'ll\", \" will\", sentance)\n",
    "    sentance = re.sub(r\"\\'t\", \" not\", sentance)\n",
    "    sentance = re.sub(r\"n\\'t\", \" not\", sentance)\n",
    "    sentance = re.sub(r\"\\'re\", \" are\", sentance)\n",
    "    sentance = re.sub(r\"\\'re\", \" are\", sentance)\n",
    "    \n",
    "   \n",
    "\n",
    "    if type_ == 'subject':\n",
    "          \n",
    "          \"['Subject: Start Date: 4/25/01; HourAhead hour: 3;  <CODESITE>\\\\n']\"\n",
    "          sentance = sentance.lower()\n",
    "          sentance = re.sub(r'\\w*@\\w*\\son\\s\\w{3},\\s\\w{3}\\s\\d*,\\s\\d*\\sat\\s\\d*:\\d*\\s\\w*\\s\\w*\\s\\w*\\s<\\s\\w*@\\w*.com\\s>','',sentance)\n",
    "          sentance = re.sub(r'on\\s\\w{3},\\s\\w{3}\\s\\d*,\\s\\d*\\sat\\s\\d*:\\d*\\s\\w*\\s\\w*\\s\\w*\\s<\\s\\w*@\\w*.com\\s>','',sentance)\n",
    "          sentance = re.sub(r'on\\s\\w{3},\\s\\w{3}\\s\\d*,\\s\\d*,\\s\\d*:\\d*\\s\\w*\\s\\w*\\s\\w*\\s<\\s\\w*@\\w*.com\\s>','',sentance)\n",
    "          sentance =re.sub(r'\\w*@\\w*.com\\s>','',sentance)\n",
    "          sentance = re.sub(r\"^(https?:\\/\\/)?([\\da-z\\.-]+)\\.([a-z\\.]{2,6})([\\/\\w \\.-]*)\\/?$\",' ',sentance)\n",
    "          sentance = re.sub(\"https?://.*\",'',sentance)\n",
    "          # sentance = re.sub('[^A-Za-z0-9]+', ' ', sentance)\n",
    "          sentance = BeautifulSoup(sentance).get_text()\n",
    "          sentance = re.sub(r\"subject:\",'',sentance)\n",
    "          sentance = re.sub(r\";\",' ',sentance)\n",
    "          sentance = re.sub(r\"start date:\",'',sentance)\n",
    "          # sentance = re.sub(r\"\\d{1}/\\d{2}/\\d{2}\",\" \",sentance)\n",
    "          # sentance = re.sub(r\"\\d{2}/\\d{2}/\\d{2}\",\" \",sentance)\n",
    "          # sentance = re.sub(r\"\\d{1}/\\d{1}/\\d{2}\",\" \",sentance)\n",
    "          sentance = re.sub(\"fw:\",\" \",sentance)\n",
    "          sentance = re.sub(r\"re:\",\" \",sentance)\n",
    "          sentance = re.sub('[^A-Za-z0-9]+', ' ', sentance)\n",
    "          sentance = re.sub(\" hemanth yernagula\",\" yernagulahemanth \",sentance)\n",
    "          sentance = re.sub(\" hemanth\",\" yernagulahemanth \",sentance)\n",
    "          sentance = re.sub(\" hemanth \",\" yernagulahemanth \",sentance)\n",
    "          sentance = re.sub(\"saiteja\",\"saitejapsk\",sentance)\n",
    "          # sentance = re.sub(\"re tw\",\" \",sentance)\n",
    "          # sentance = re.sub(r\",\",'',sentance).strip()\n",
    "          sentance = re.sub(r\"  \",\" \",sentance)\n",
    "\n",
    "    elif type_ == 'to':\n",
    "          \n",
    "          # sentance = re.search(r'<\\w*\\@\\w*.com>',sentance).group()\n",
    "          try:\n",
    "            sentance = re.search(r'\\w*\\@',sentance).group()[:-1]\n",
    "            sentance = re.sub(\"psksaiteja1\",\"saitejapsk\",sentance)\n",
    "            # sentance = re.sub(r\"^(https?:\\/\\/)?([\\da-z\\.-]+)\\.([a-z\\.]{2,6})([\\/\\w \\.-]*)\\/?$\",' ',sentance)\n",
    "            # sentance = sentance.split('@')[0]\n",
    "            # sentance = re.sub('[^A-Za-z]+', ' ', sentance)\n",
    "            # sentance = re.sub(r\",\",'',sentance).strip()\n",
    "          except:\n",
    "            pass\n",
    "\n",
    "\n",
    "    elif type_ == 'content':\n",
    "          \n",
    "          # sentance = re.sub(r\"\\\\n\",'',s).lower()\n",
    "          sentance = BeautifulSoup(sentance).get_text()\n",
    "          sentance = re.sub(r'\\w*@\\w*\\son\\s\\w{3},\\s\\w{3}\\s\\d*,\\s\\d*\\sat\\s\\d*:\\d*\\s\\w*\\s\\w*\\s\\w*\\s<\\s\\w*@\\w*.com\\s>','',sentance)\n",
    "          sentance = re.sub(r'on\\s\\w{3},\\s\\w{3}\\s\\d*,\\s\\d*\\sat\\s\\d*:\\d*\\s\\w*\\s\\w*\\s\\w*\\s<\\s\\w*@\\w*.com\\s>','',sentance)#removing urls\n",
    "          sentance = re.sub(r'on\\s\\w{3},\\s\\w{3}\\s\\d*,\\s\\d*,\\s\\d*:\\d*\\s\\w*\\s\\w*\\s\\w*\\s<\\s\\w*@\\w*.com\\s>','',sentance)#removing urls\n",
    "          sentance = re.sub(r'on\\s\\w{3},\\s\\w{3}\\s\\d*,\\s\\d*\\s\\w*\\s\\d*:\\d*\\s\\w*','',sentance)#removing urls\n",
    "          sentance = re.sub(\"https?://.*\",'',sentance)#removing urls\n",
    "          sentance = re.sub(r'\\w*@\\w*.com\\s>','',sentance)#removing urls\n",
    "          sentance = re.sub(r'\\w*_\\d*.\\w{3}','',sentance)\n",
    "          sentance = re.sub(r'\\www.\\w*.com','',sentance)#removing urls\n",
    "          sentance = re.sub(r\"\\d+\",'',sentance)\n",
    "          sentance = re.sub(r\"td>\",' ',sentance)\n",
    "          sentance = re.sub(r\"div>\",' ',sentance)\n",
    "          sentance = re.sub(r\"^(https?:\\/\\/)?([\\da-z\\.-]+)\\.([a-z\\.]{2,6})([\\/\\w \\.-]*)\\/?$\",' ',sentance)\n",
    "          sentance = re.sub(r\"\\w{2}\\s\\d{2}/\\d{2}/\\d{4}\\s\\d{2}:\\d{2}:\\d{2}\\s\\w{2},\",'',sentance)\n",
    "          sentance = re.sub(r\"[^A-Za-z0-9]+\",' ',sentance)\n",
    "          sentance = re.sub(r\"\\d*\",'',sentance)\n",
    "    n_points -= 1\n",
    "    sentance = re.sub(r'  ',' ',sentance)\n",
    "    sys.stdout.write('\\r')\n",
    "    \n",
    "    \n",
    "    return sentance\n"
   ]
  },
  {
   "cell_type": "markdown",
   "metadata": {
    "colab_type": "text",
    "id": "2oPTxb3VGzZW"
   },
   "source": [
    "<strong> We shall have a look at how this clean function is working  on each column</strong>"
   ]
  },
  {
   "cell_type": "markdown",
   "metadata": {
    "colab_type": "text",
    "id": "4j7LQ4ceHCU1"
   },
   "source": [
    "### On To Column"
   ]
  },
  {
   "cell_type": "code",
   "execution_count": 0,
   "metadata": {
    "colab": {
     "base_uri": "https://localhost:8080/",
     "height": 1000
    },
    "colab_type": "code",
    "id": "rSdYANeUk04L",
    "outputId": "2c372a49-22dc-481e-9538-8af62c01660b",
    "scrolled": true
   },
   "outputs": [
    {
     "name": "stdout",
     "output_type": "stream",
     "text": [
      "d\n",
      "n To: Hemanth Yernagula <yernagulahemanth@gmail.com>\n",
      "\n",
      "to Remaining--10\r",
      "yernagulahemanth\n",
      "----------------------------------------------------------------------------------------------------\n",
      "Before cleaning\n",
      "97 To: Hemanth Yernagula <yernagulahemanth@gmail.com>\n",
      "\n",
      "After cleaning\n",
      "to Remaining--11\r",
      "yernagulahemanth\n",
      "----------------------------------------------------------------------------------------------------\n",
      "Before cleaning\n",
      "45 To: yernagulahemanth@gmail.com\n",
      "\n",
      "After cleaning\n",
      "to Remaining--12\r",
      "yernagulahemanth\n",
      "----------------------------------------------------------------------------------------------------\n",
      "Before cleaning\n",
      "15 To: \"yernagulahemanth@gmail.com\" <yernagulahemanth@gmail.com>\n",
      "\n",
      "After cleaning\n",
      "to Remaining--13\r",
      "yernagulahemanth\n",
      "----------------------------------------------------------------------------------------------------\n",
      "Before cleaning\n",
      "89 To: Hemanth Yernagula <yernagulahemanth@gmail.com>\n",
      "\n",
      "After cleaning\n",
      "to Remaining--14\r",
      "yernagulahemanth\n",
      "----------------------------------------------------------------------------------------------------\n",
      "Before cleaning\n",
      "85 To: yernagulahemanth@gmail.com\n",
      "\n",
      "After cleaning\n",
      "to Remaining--15\r",
      "yernagulahemanth\n",
      "----------------------------------------------------------------------------------------------------\n",
      "Before cleaning\n",
      "14 To: yernagulahemanth@gmail.com\n",
      "\n",
      "After cleaning\n",
      "to Remaining--16\r",
      "yernagulahemanth\n",
      "----------------------------------------------------------------------------------------------------\n",
      "Before cleaning\n",
      "35 To: yernagulahemanth@gmail.com\n",
      "\n",
      "After cleaning\n",
      "to Remaining--17\r",
      "yernagulahemanth\n",
      "----------------------------------------------------------------------------------------------------\n",
      "Before cleaning\n",
      "63 To: yernagulahemanth@gmail.com\n",
      "\n",
      "After cleaning\n",
      "to Remaining--18\r",
      "yernagulahemanth\n",
      "----------------------------------------------------------------------------------------------------\n",
      "Before cleaning\n",
      "53 To: Hemanth Yernagula <yernagulahemanth@gmail.com>\n",
      "\n",
      "After cleaning\n",
      "to Remaining--19\r",
      "yernagulahemanth\n",
      "----------------------------------------------------------------------------------------------------\n",
      "Before cleaning\n",
      "55 To: Hemanth Yernagula <yernagulahemanth@gmail.com>\n",
      "\n",
      "After cleaning\n",
      "to Remaining--20\r",
      "yernagulahemanth\n"
     ]
    }
   ],
   "source": [
    "print(re.search(r'\\w*\\@','d@').group()[:-1])\n",
    "print('n',final_data_unprocessed.To.iloc[73])\n",
    "print(clean_string(final_data_unprocessed.To.iloc[73],type_='to'))\n",
    "\n",
    "for i in range(10):\n",
    "  print('-'*100)\n",
    "  r = random.randint(10,100)\n",
    "  print('Before cleaning')\n",
    "\n",
    "  print(r,final_data_unprocessed.To.iloc[r])\n",
    "\n",
    "  print('After cleaning')\n",
    "  print(clean_string(final_data_unprocessed.To.iloc[r],type_='to'))"
   ]
  },
  {
   "cell_type": "code",
   "execution_count": 0,
   "metadata": {
    "colab": {
     "base_uri": "https://localhost:8080/",
     "height": 54
    },
    "colab_type": "code",
    "id": "QVF3QklyJTEz",
    "outputId": "ae6bc4ce-5fb7-4100-ff5e-f5f0f1263fe3"
   },
   "outputs": [
    {
     "data": {
      "text/plain": [
       "'Subject: =?UTF-8?B?4oCcMzYgQW1hemluZyBQeXRob24gT3BlbiBTb3VyY2UgUHJvamVjdHMgKHYuMjAxOSnigJ0gcHVibGlzaGVkIGluIE15YnJpZGdlIA==?= =?UTF-8?B?Zm9yIFByb2Zlc3Npb25hbHMgYnkgTXlicmlkZ2U=?=\\n'"
      ]
     },
     "execution_count": 284,
     "metadata": {
      "tags": []
     },
     "output_type": "execute_result"
    }
   ],
   "source": [
    "# final_data_unprocessed = final_data_unprocessed.drop([890],axis=0)\n",
    "# final_data_unprocessed.to_csv('gdrive/My Drive/google/my_final_data_unprocessed.csv')\n",
    "final_data_unprocessed.Subject.iloc[151]\n"
   ]
  },
  {
   "cell_type": "markdown",
   "metadata": {
    "colab_type": "text",
    "id": "tIPdQZIbHXBv"
   },
   "source": [
    "### On subject Column"
   ]
  },
  {
   "cell_type": "code",
   "execution_count": 0,
   "metadata": {
    "colab": {
     "base_uri": "https://localhost:8080/",
     "height": 1000
    },
    "colab_type": "code",
    "id": "BPF_W0pntE2i",
    "outputId": "ef10e687-692f-46db-c066-ae775f90c478",
    "scrolled": true
   },
   "outputs": [
    {
     "name": "stdout",
     "output_type": "stream",
     "text": [
      "Subject: Your Coupons\n",
      "\n",
      "subject Remaining--21\r",
      "your coupons \n",
      "----------------------------------------------------------------------------------------------------\n",
      "Before cleaning\n",
      "330 Subject: Welcome to Learn to Chant Ashtadhyayi\n",
      "\n",
      "After cleaning\n",
      "subject Remaining--22\r",
      "welcome to learn to chant ashtadhyayi \n",
      "----------------------------------------------------------------------------------------------------\n",
      "Before cleaning\n",
      "303 Subject: 4 Ways to Get Started with AWS\n",
      "\n",
      "After cleaning\n",
      "subject Remaining--23\r",
      "4 ways to get started with aws \n",
      "----------------------------------------------------------------------------------------------------\n",
      "Before cleaning\n",
      "485 Subject: About  final project\n",
      "\n",
      "After cleaning\n",
      "subject Remaining--24\r",
      "about final project \n",
      "----------------------------------------------------------------------------------------------------\n",
      "Before cleaning\n",
      "392 Subject: Re: About final project\n",
      "\n",
      "After cleaning\n",
      "subject Remaining--25\r",
      " about final project \n",
      "----------------------------------------------------------------------------------------------------\n",
      "Before cleaning\n",
      "424 Subject: Re: Doubt regarding Self driving car\n",
      "\n",
      "After cleaning\n",
      "subject Remaining--26\r",
      " doubt regarding self driving car \n",
      "----------------------------------------------------------------------------------------------------\n",
      "Before cleaning\n",
      "486 Subject: good news \n",
      "\n",
      "After cleaning\n",
      "subject Remaining--27\r",
      "good news \n",
      "----------------------------------------------------------------------------------------------------\n",
      "Before cleaning\n",
      "153 Subject: Re: Doubt regarding Personalized Cancer Diagnosis\n",
      "\n",
      "After cleaning\n",
      "subject Remaining--28\r",
      " doubt regarding personalized cancer diagnosis \n",
      "----------------------------------------------------------------------------------------------------\n",
      "Before cleaning\n",
      "72 Subject: Re: Chinese characters are also present in the data\n",
      "\n",
      "After cleaning\n",
      "subject Remaining--29\r",
      " chinese characters are also present in the data \n",
      "----------------------------------------------------------------------------------------------------\n",
      "Before cleaning\n",
      "105 Subject: Re: Doubt Regarding Index\n",
      "\n",
      "After cleaning\n",
      "subject Remaining--30\r",
      " doubt regarding index \n",
      "----------------------------------------------------------------------------------------------------\n",
      "Before cleaning\n",
      "70 Subject: Opening in GMS\n",
      "\n",
      "After cleaning\n",
      "subject Remaining--31\r",
      "opening in gms \n"
     ]
    }
   ],
   "source": [
    "print(final_data_unprocessed.Subject.iloc[151])\n",
    "print(clean_string(final_data_unprocessed.Subject.iloc[151],type_='subject'))\n",
    "for i in range(10):\n",
    "  print('-'*100)\n",
    "  r = random.randint(10,500)\n",
    "  print('Before cleaning')\n",
    "\n",
    "  print(r,final_data_unprocessed.Subject.iloc[r])\n",
    "\n",
    "  print('After cleaning')\n",
    "  print(clean_string(final_data_unprocessed.Subject.iloc[r],type_='subject'))"
   ]
  },
  {
   "cell_type": "markdown",
   "metadata": {
    "colab_type": "text",
    "id": "96FVqorTHd0t"
   },
   "source": [
    "### On Content Column"
   ]
  },
  {
   "cell_type": "code",
   "execution_count": 0,
   "metadata": {
    "colab": {
     "base_uri": "https://localhost:8080/",
     "height": 925
    },
    "colab_type": "code",
    "id": "BbdgWPIauqyd",
    "outputId": "a1aa4a36-4e3b-494f-8411-6fba50cca7a8"
   },
   "outputs": [
    {
     "name": "stdout",
     "output_type": "stream",
     "text": [
      "----------------------------------------------------------------------------------------------------\n",
      "Before cleaning\n",
      "53 yes, its a good one :) but we feel there are few tools available for this task, like ocr. can you explain to us what are steps you are planning to take while solving this problem? thank you \n",
      "After cleaning\n",
      "content Remaining--32\r",
      "yes its a good one but we feel there are few tools available for this task like ocr can you explain to us what are steps you are planning to take while solving this problem thank you \n",
      "----------------------------------------------------------------------------------------------------\n",
      "Before cleaning\n",
      "54 aaic classroom app hi , classroom: appliedaicourse: baymax post title: docboyz company post content: preview content about company : docboyz role: ml intern location: pune   interviews: 2 to 3 ml interviews . requirements: 1. very good programming knowledge p> 2. very good knowledge of ml and deep learning 3. proven track record of applying deep learning and machine learning   note: preference would be given to people who have made self case studies we will filter based on the following requirement. 1. should have completed 30 assignments to satisfy requirement (2) 2. one technical blog on ml and other on dl which should cover students own case studies (outside of course contents) to satisfy requirement (3) listed above. interested candidates who are ready, please share your resume to placements@appliedcourse.com \n",
      "After cleaning\n",
      "content Remaining--33\r",
      "aaic classroom app hi classroom appliedaicourse baymax post title docboyz company post content preview content about company docboyz role ml intern location pune interviews to ml interviews requirements very good programming knowledge p very good knowledge of ml and deep learning proven track record of applying deep learning and machine learning note preference would be given to people who have made self case studies we will filter based on the following requirement should have completed assignments to satisfy requirement one technical blog on ml and other on dl which should cover students own case studies outside of course contents to satisfy requirement listed above interested candidates who are ready please share your resume to placements appliedcourse com \n",
      "----------------------------------------------------------------------------------------------------\n",
      "Before cleaning\n",
      "464 hello saiteja, while predicting at test time with model my ram is crashing what shall i do? \n",
      "After cleaning\n",
      "content Remaining--34\r",
      "hello saitejapsk while predicting at test time with model my ram is crashing what shall i do \n",
      "----------------------------------------------------------------------------------------------------\n",
      "Before cleaning\n",
      "255 dear hemanth yernagula nec is looking for technology enthusiasts like you to take part in the nec open innovation hackathon . this hackathon gives you a chance to showcase your skills/ideas leveraging new age technologies to enhance customer experience in retails stores, amusement parks, sports arenas and hospitality. nec invites all mavericks to participate and win prizes worth inr 2 lacs . also, get a chance to get hired or co-develop product ready solutions with nec. 1 st prize inr 1 lac 2 nd prize inr 75k 3 rd prize inr 50k participate now schedule: online round: 12th august to 9th september, 2019 offline finale: 28th and 29th september, 2019 venue: delhi ncr if you have any queries or feedback with respect to the hackathon, send them to customercare@techgig.com or share them on the hackathon discussion forum. thanks and regards, team nec 2019 | techgig | terms of use | contact us times center, fc - 6, sector 16 a, film city, noida - 201301, uttar pradesh, india follow us on download app note: for your privacy and protection, please do not forward this mail to anyone as it allows you to get automatically logged into your account. if you do not want to receive this mailer, unsubscribe . to make sure this email is not sent to your \"junk/bulk\" folder, select \"add/save to address book\" in your email browser and follow the appropriate instructions. \n",
      "After cleaning\n",
      "content Remaining--35\r",
      "dear yernagulahemanth nec is looking for technology enthusiasts like you to take part in the nec open innovation hackathon this hackathon gives you a chance to showcase your skills ideas leveraging new age technologies to enhance customer experience in retails stores amusement parks sports arenas and hospitality nec invites all mavericks to participate and win prizes worth inr lacs also get a chance to get hired or co develop product ready solutions with nec st prize inr lac nd prize inr k rd prize inr k participate now schedule online round th august to th september offline finale th and th september venue delhi ncr if you have any queries or feedback with respect to the hackathon send them to customercare techgig com or share them on the hackathon discussion forum thanks and regards team nec techgig terms of use contact us times center fc sector a film city noida uttar pradesh india follow us on download app note for your privacy and protection please do not forward this mail to anyone as it allows you to get automatically logged into your account if you do not want to receive this mailer unsubscribe to make sure this email is not sent to your junk bulk folder select add save to address book in your email browser and follow the appropriate instructions \n",
      "----------------------------------------------------------------------------------------------------\n",
      "Before cleaning\n",
      "428 hello hemanthcasestudy8, this is yernagulahemanth, there is a serious issue regarding gearbox, meet me at the second block as soon as possible. thank you \n",
      "After cleaning\n",
      "content Remaining--36\r",
      "hello yernagulahemanth casestudy this is yernagulahemanth there is a serious issue regarding gearbox meet me at the second block as soon as possible thank you \n",
      "----------------------------------------------------------------------------------------------------\n",
      "Before cleaning\n",
      "368 dear yernagula hemanth rama krishna, your registration has been done in rrb, secunderabad for cen 01/2019 (ntpc). however your registration will get activated after the verification of your email id and mobile number. enter the otp given below to verify your email id. your e-mail otp : 1348 please note that another otp has been sent to your mobile number for the verification of your mobile number. you are required to complete the remaining stages of the online application process by clicking on the verify through otp link provided in the home page of the online registration portal. please note that your registration is not complete as of now. you have to complete the remaining stages of your registration as instructed above. best wishes, rrb online registration portal this is an automatic reply to let you know that your registration is complete and pending for activation in the rrb online registration portal. \n",
      "After cleaning\n",
      "content Remaining--37\r",
      "dear yernagula yernagulahemanth rama krishna your registration has been done in rrb secunderabad for cen ntpc however your registration will get activated after the verification of your email id and mobile number enter the otp given below to verify your email id your e mail otp please note that another otp has been sent to your mobile number for the verification of your mobile number you are required to complete the remaining stages of the online application process by clicking on the verify through otp link provided in the home page of the online registration portal please note that your registration is not complete as of now you have to complete the remaining stages of your registration as instructed above best wishes rrb online registration portal this is an automatic reply to let you know that your registration is complete and pending for activation in the rrb online registration portal \n",
      "----------------------------------------------------------------------------------------------------\n",
      "Before cleaning\n",
      "378  ---------- forwarded message --------- from: saiteja psk < saitejapsk@gmailn information gain value like 1. first we compute ig for 5 features and pick highest ig as root node 2.after that we remove previous node because it is already make it as node, and again we compute ig for 4 features and pick highest ig as node and this node we send it to previous node if second node values is less than first node we kept in left side of root node or if second node value is greater than root node we kept at right side of root node 3. at next we remove second feature and compute ig for 3 features same above process upto end of all features all this process in training now coming to test phase we predict the query point based on test ig values, is this correct.....? if correct : here my doubt is how we predict the single query point based on ig values because we get ig value is combination of all points i.e... yes or no how single query point will be predicted in test data using this ig values because ig value is came from yes or no points. can you explain test phase in decision tress....? thank you...... \n",
      "After cleaning\n",
      "content Remaining--38\r",
      " forwarded message saitejapsk psk saitejapskpsk gmailn information gain value like first we compute ig for features and pick highest ig as root node after that we remove previous node because it is already make it as node and again we compute ig for features and pick highest ig as node and this node we send it to previous node if second node values is less than first node we kept in left side of root node or if second node value is greater than root node we kept at right side of root node at next we remove second feature and compute ig for features same above process upto end of all features all this process in training now coming to test phase we predict the query point based on test ig values is this correct if correct here my doubt is how we predict the single query point based on ig values because we get ig value is combination of all points i e yes or no how single query point will be predicted in test data using this ig values because ig value is came from yes or no points can you explain test phase in decision tress thank you \n",
      "----------------------------------------------------------------------------------------------------\n",
      "Before cleaning\n",
      "87  ?utf-8?q?ptional _practice_questions ?hi hemanth, applied ai course added a private comment on 1.2 [optional] practice questions: pandas (for basic understanding) .   applied ai course \"hi hemanth, you did well, but few suggestions for you. 1. please recheck your output for questions 12, because your index values are changed to tuples. to overcome this use append() function instead of loc function for appending a row. 2. for 14th question please print another dataframe by considering ascending order for visit column. please incorporate the above suggestions and resubmit your assignment\" reply if you dont want to receive emails from classroom, you can unsubscribe . google inc. 1600 amphitheatre pkwy mountain view, ca 94043 usa \n",
      "After cleaning\n",
      "content Remaining--39\r",
      " q ptional tions hi yernagulahemanth applied ai course added a private comment on optional practice questions pandas for basic understanding applied ai course hi yernagulahemanth you did well but few suggestions for you please recheck your output for questions because your index values are changed to tuples to overcome this use append function instead of loc function for appending a row for th question please print another dataframe by considering ascending order for visit column please incorporate the above suggestions and resubmit your assignment reply if you dont want to receive emails from classroom you can unsubscribe google inc amphitheatre pkwy mountain view ca usa \n",
      "----------------------------------------------------------------------------------------------------\n",
      "Before cleaning\n",
      "278  applied ai course hi folks, please go through the below link to get the live session documents. https://drive.google.com/drive/folders/12cfmovckyusf1jh25afsbomqcebo7f_z?usp sharing applied ai course survey no 203-210, plot no 87, tngo colony, phase 2, financial district, gachibowli, hyderabad , hyderabad , 500032 unsubscribe - unsubscribe preferences \n",
      "After cleaning\n",
      "content Remaining--40\r",
      "applied ai course hi folks please go through the below link to get the live session documents \n",
      "----------------------------------------------------------------------------------------------------\n",
      "Before cleaning\n",
      "282  placements hi folks, we are going to conduct an assessment test. the assessment test will feature questions that are frequently asked in interviews. we request you all to take this test as this can be a good way to check your knowledge base and see where you stand. date and time of assessment test: nov 16th (saturday), from 7 p.m (ist) to 8.00 p.m(ist) duration of the test: 1 hour. the number of questions: 20 topics covered in the test: programming, probability & statistics, eda. . guidelines for the assessment test: : we will be using an online assessment platform to conduct the test the test will be proctored to prevent any form of malpractice. while taking the test, your screen will be recorded. as a part of the assessment, there will be follow up questions for certain questions. the responses will be recorded and reviewed before giving the final assessment score. this is an open-book test, wherein you can use any reference while taking the assessment test. since there will be questions that require you execute the code, make sure you have a working jupyter notebook before attempting the test. no extra time will be given, so make sure to complete the test within the stipulated time. click on \"share\" **note: those who havent finished relevant syllabus and assignments can take this test as per their convenience. thanks and regards, placementsteam@aaic placements survey no 203-210, plot no 87, tngo colony, phase 2, financial district, gachibowli, hyderabad , hyderabad , 500032 unsubscribe - unsubscribe preferences \n",
      "After cleaning\n",
      "content Remaining--41\r",
      "placements hi folks we are going to conduct an assessment test the assessment test will feature questions that are frequently asked in interviews we request you all to take this test as this can be a good way to check your knowledge base and see where you stand date and time of assessment test nov th saturday from p m ist to p m ist duration of the test hour the number of questions topics covered in the test programming probability statistics eda guidelines for the assessment test we will be using an online assessment platform to conduct the test the test will be proctored to prevent any form of malpractice while taking the test your screen will be recorded as a part of the assessment there will be follow up questions for certain questions the responses will be recorded and reviewed before giving the final assessment score this is an open book test wherein you can use any reference while taking the assessment test since there will be questions that require you execute the code make sure you have a working jupyter notebook before attempting the test no extra time will be given so make sure to complete the test within the stipulated time click on share note those who havent finished relevant syllabus and assignments can take this test as per their convenience thanks and regards placementsteam aaic placements survey no plot no tngo colony phase financial district gachibowli hyderabad hyderabad unsubscribe unsubscribe preferences \n"
     ]
    }
   ],
   "source": [
    "\n",
    "for i in range(10):\n",
    "  print('-'*100)\n",
    "  r = random.randint(10,500)\n",
    "  print('Before cleaning')\n",
    "\n",
    "  print(r,final_data_unprocessed.Content.iloc[r])\n",
    "\n",
    "  print('After cleaning')\n",
    "  print(clean_string(final_data_unprocessed.Content.iloc[r],type_='content'))"
   ]
  },
  {
   "cell_type": "markdown",
   "metadata": {
    "colab_type": "text",
    "id": "bjmGASc2HiTv"
   },
   "source": [
    "### On Previous Eamil Column"
   ]
  },
  {
   "cell_type": "code",
   "execution_count": 0,
   "metadata": {
    "colab": {
     "base_uri": "https://localhost:8080/",
     "height": 905
    },
    "colab_type": "code",
    "id": "wUDypB8a2Gk_",
    "outputId": "19bb9454-91f1-444c-f3ce-a3e1e2e0cdac"
   },
   "outputs": [
    {
     "name": "stdout",
     "output_type": "stream",
     "text": [
      "----------------------------------------------------------------------------------------------------\n",
      "Before cleaning\n",
      "41 nan\n",
      "After cleaning\n",
      "content Remaining--42\r",
      "nan\n",
      "----------------------------------------------------------------------------------------------------\n",
      "Before cleaning\n",
      "18 nan\n",
      "After cleaning\n",
      "content Remaining--43\r",
      "nan\n",
      "----------------------------------------------------------------------------------------------------\n",
      "Before cleaning\n",
      "76 nan\n",
      "After cleaning\n",
      "content Remaining--44\r",
      "nan\n",
      "----------------------------------------------------------------------------------------------------\n",
      "Before cleaning\n",
      "60 nan\n",
      "After cleaning\n",
      "content Remaining--45\r",
      "nan\n",
      "----------------------------------------------------------------------------------------------------\n",
      "Before cleaning\n",
      "36 nan\n",
      "After cleaning\n",
      "content Remaining--46\r",
      "nan\n",
      "----------------------------------------------------------------------------------------------------\n",
      "Before cleaning\n",
      "14 nan\n",
      "After cleaning\n",
      "content Remaining--47\r",
      "nan\n",
      "----------------------------------------------------------------------------------------------------\n",
      "Before cleaning\n",
      "98 nan\n",
      "After cleaning\n",
      "content Remaining--48\r",
      "nan\n",
      "----------------------------------------------------------------------------------------------------\n",
      "Before cleaning\n",
      "23 nan\n",
      "After cleaning\n",
      "content Remaining--49\r",
      "nan\n",
      "----------------------------------------------------------------------------------------------------\n",
      "Before cleaning\n",
      "23 nan\n",
      "After cleaning\n",
      "content Remaining--50\r",
      "nan\n",
      "----------------------------------------------------------------------------------------------------\n",
      "Before cleaning\n",
      "12  hello mrs. hemanthcasestudy4 , are will you come by car, bus or by train? \n",
      "After cleaning\n",
      "content Remaining--51\r",
      "hello mrs yernagulahemanth casestudy are will you come by car bus or by train \n"
     ]
    }
   ],
   "source": [
    "## Cleaning previous email column\n",
    "\n",
    "for i in range(10):\n",
    "  print('-'*100)\n",
    "  r = random.randint(10,100)\n",
    "  print('Before cleaning')\n",
    "\n",
    "  print(r,final_data_unprocessed.Prvious_email.iloc[r])\n",
    "\n",
    "  print('After cleaning')\n",
    "  print(clean_string(final_data_unprocessed.Prvious_email.iloc[r],type_='content'))"
   ]
  },
  {
   "cell_type": "markdown",
   "metadata": {
    "colab_type": "text",
    "id": "-nBWRIlPsr5d"
   },
   "source": [
    "## Cleaninig All Columns"
   ]
  },
  {
   "cell_type": "code",
   "execution_count": 0,
   "metadata": {
    "colab": {
     "base_uri": "https://localhost:8080/",
     "height": 16
    },
    "colab_type": "code",
    "id": "1a3fxIE4spNF",
    "outputId": "28933bce-7c06-45c3-f57f-d7d128572b70"
   },
   "outputs": [
    {
     "name": "stdout",
     "output_type": "stream",
     "text": []
    }
   ],
   "source": [
    "\n",
    "n_points = final_data_unprocessed.shape[0]\n",
    "final_data_unprocessed['clean_to'] = final_data_unprocessed.To.apply(lambda x: clean_string(x,'to'))\n",
    "\n",
    "sys.stdout.write('\\r')\n",
    "sys.stdout.write('Done with to')\n",
    "\n",
    "n_points = final_data_unprocessed.shape[0]\n",
    "final_data_unprocessed['clean_subject'] = final_data_unprocessed.Subject.apply(lambda x: clean_string(x,'subject'))\n",
    "\n",
    "sys.stdout.write('\\r')\n",
    "sys.stdout.write('Done with subject')\n",
    "\n",
    "n_points = final_data_unprocessed.shape[0]\n",
    "final_data_unprocessed['clean_content'] = final_data_unprocessed.Content.apply(lambda x: clean_string(x,'content'))\n",
    "\n",
    "sys.stdout.write('\\r')\n",
    "sys.stdout.write('Done with content')\n",
    "\n",
    "n_points = final_data_unprocessed.shape[0]\n",
    "final_data_unprocessed['clean_previous_email'] = final_data_unprocessed.Prvious_email.apply(lambda x: clean_string(x,'content'))\n"
   ]
  },
  {
   "cell_type": "code",
   "execution_count": 0,
   "metadata": {
    "colab": {
     "base_uri": "https://localhost:8080/",
     "height": 417
    },
    "colab_type": "code",
    "id": "QtmwtLc0sonF",
    "outputId": "ef528294-29bf-4eab-c96a-0035544b2dd9"
   },
   "outputs": [
    {
     "data": {
      "text/html": [
       "<div>\n",
       "<style scoped>\n",
       "    .dataframe tbody tr th:only-of-type {\n",
       "        vertical-align: middle;\n",
       "    }\n",
       "\n",
       "    .dataframe tbody tr th {\n",
       "        vertical-align: top;\n",
       "    }\n",
       "\n",
       "    .dataframe thead th {\n",
       "        text-align: right;\n",
       "    }\n",
       "</style>\n",
       "<table border=\"1\" class=\"dataframe\">\n",
       "  <thead>\n",
       "    <tr style=\"text-align: right;\">\n",
       "      <th></th>\n",
       "      <th>File_name</th>\n",
       "      <th>To</th>\n",
       "      <th>From</th>\n",
       "      <th>Subject</th>\n",
       "      <th>Prvious_email</th>\n",
       "      <th>Content</th>\n",
       "      <th>Type</th>\n",
       "      <th>clean_to</th>\n",
       "      <th>clean_subject</th>\n",
       "      <th>clean_content</th>\n",
       "      <th>clean_previous_email</th>\n",
       "    </tr>\n",
       "  </thead>\n",
       "  <tbody>\n",
       "    <tr>\n",
       "      <th>0</th>\n",
       "      <td>emails_/yernagulahemanth/inbox/355.txt</td>\n",
       "      <td>To: yernagulahemanth@gmail.com\\n</td>\n",
       "      <td>From: team@appliedaicourse.com\\n</td>\n",
       "      <td>Subject: Applied Course: Microsoft Malware det...</td>\n",
       "      <td>NaN</td>\n",
       "      <td>aaic classroom app hi hemanth yernagula, a com...</td>\n",
       "      <td>c__d</td>\n",
       "      <td>yernagulahemanth</td>\n",
       "      <td>applied course microsoft malware detection</td>\n",
       "      <td>aaic classroom app hi yernagulahemanth a comme...</td>\n",
       "      <td>nan</td>\n",
       "    </tr>\n",
       "    <tr>\n",
       "      <th>1</th>\n",
       "      <td>emails_/yernagulahemanth/inbox/318.txt</td>\n",
       "      <td>To: yernagulahemanth@gmail.com\\n</td>\n",
       "      <td>From: Heroku &lt;noreply@heroku.com&gt;\\n</td>\n",
       "      <td>Subject: Confirm your account on Heroku\\n</td>\n",
       "      <td>NaN</td>\n",
       "      <td>thanks for signing up with heroku! you must fo...</td>\n",
       "      <td>c__d</td>\n",
       "      <td>yernagulahemanth</td>\n",
       "      <td>confirm your account on heroku</td>\n",
       "      <td>thanks for signing up with heroku you must fol...</td>\n",
       "      <td>nan</td>\n",
       "    </tr>\n",
       "    <tr>\n",
       "      <th>2</th>\n",
       "      <td>emails_/yernagulahemanth/inbox/58.txt</td>\n",
       "      <td>To: Hemanth Yernagula &lt;yernagulahemanth@gmail....</td>\n",
       "      <td>From: Applied Course &lt;team@appliedaicourse.com&gt;\\n</td>\n",
       "      <td>Subject: Re: Doubt regarding sorting of words ...</td>\n",
       "      <td>NaN</td>\n",
       "      <td>can you print(w.sort())</td>\n",
       "      <td>c__d</td>\n",
       "      <td>yernagulahemanth</td>\n",
       "      <td>doubt regarding sorting of words in a statement</td>\n",
       "      <td>can you print w sort</td>\n",
       "      <td>nan</td>\n",
       "    </tr>\n",
       "    <tr>\n",
       "      <th>3</th>\n",
       "      <td>emails_/yernagulahemanth/inbox/38.txt</td>\n",
       "      <td>To: \"Hemanth Yernagula\" &lt;yernagulahemanth@gmai...</td>\n",
       "      <td>From: \"Jigsaw Academy\" &lt;info@jigsawacademy.com&gt;\\n</td>\n",
       "      <td>Subject: Your Inbox, Your Content - Jigsaw Aca...</td>\n",
       "      <td>NaN</td>\n",
       "      <td>hello, how re things? we, at jigsaw academy...</td>\n",
       "      <td>c__d</td>\n",
       "      <td>yernagulahemanth</td>\n",
       "      <td>your inbox your content jigsaw academy</td>\n",
       "      <td>hello how re things we at jigsaw academy belie...</td>\n",
       "      <td>nan</td>\n",
       "    </tr>\n",
       "    <tr>\n",
       "      <th>4</th>\n",
       "      <td>emails_/yernagulahemanth/inbox/160.txt</td>\n",
       "      <td>To: yernagulahemanth@gmail.com\\n</td>\n",
       "      <td>From: \"Applied AI Course (Classroom)\" &lt;no-repl...</td>\n",
       "      <td>Subject: =?UTF-8?Q?Applied_AI_Course_added_a_p...</td>\n",
       "      <td>NaN</td>\n",
       "      <td>?utf-8?q?ment 7 _apply_svm_on_donors ?hi hema...</td>\n",
       "      <td>c__d</td>\n",
       "      <td>yernagulahemanth</td>\n",
       "      <td>22assign</td>\n",
       "      <td>q ment rs hi yernagulahemanth applied ai cour...</td>\n",
       "      <td>nan</td>\n",
       "    </tr>\n",
       "  </tbody>\n",
       "</table>\n",
       "</div>"
      ],
      "text/plain": [
       "                                File_name  ... clean_previous_email\n",
       "0  emails_/yernagulahemanth/inbox/355.txt  ...                  nan\n",
       "1  emails_/yernagulahemanth/inbox/318.txt  ...                  nan\n",
       "2   emails_/yernagulahemanth/inbox/58.txt  ...                  nan\n",
       "3   emails_/yernagulahemanth/inbox/38.txt  ...                  nan\n",
       "4  emails_/yernagulahemanth/inbox/160.txt  ...                  nan\n",
       "\n",
       "[5 rows x 11 columns]"
      ]
     },
     "execution_count": 39,
     "metadata": {
      "tags": []
     },
     "output_type": "execute_result"
    }
   ],
   "source": [
    "final_data_unprocessed.head()"
   ]
  },
  {
   "cell_type": "code",
   "execution_count": 0,
   "metadata": {
    "colab": {},
    "colab_type": "code",
    "id": "Zg_D-uxq4kcc"
   },
   "outputs": [],
   "source": [
    "final_data_unprocessed.to_csv('gdrive/My Drive/google/my_final_data_unprocessed.csv',index=False)"
   ]
  },
  {
   "cell_type": "code",
   "execution_count": 0,
   "metadata": {
    "colab": {},
    "colab_type": "code",
    "id": "K8UhHiCTbFbq"
   },
   "outputs": [],
   "source": [
    "final_data_unprocessed = pd.read_csv('gdrive/My Drive/google/my_final_data_unprocessed.csv')"
   ]
  },
  {
   "cell_type": "markdown",
   "metadata": {
    "colab_type": "text",
    "id": "suhOsSvVO8ct"
   },
   "source": [
    "<strong>Lets store this cleaned columns separetely</strong>"
   ]
  },
  {
   "cell_type": "code",
   "execution_count": 0,
   "metadata": {
    "colab": {},
    "colab_type": "code",
    "id": "3fFkQhZiYJGj"
   },
   "outputs": [],
   "source": [
    "final_data_processed = pd.DataFrame()\n",
    "\n",
    "final_data_processed['File_name'] = final_data_unprocessed['File_name']\n",
    "final_data_processed['To'] = final_data_unprocessed['clean_to']\n",
    "final_data_processed['Subject'] = final_data_unprocessed['clean_subject']\n",
    "final_data_processed['Previous_email'] = final_data_unprocessed['clean_previous_email']\n",
    "final_data_processed['Content'] = final_data_unprocessed['clean_content']\n",
    "final_data_processed['Type'] = final_data_unprocessed['Type']"
   ]
  },
  {
   "cell_type": "code",
   "execution_count": 0,
   "metadata": {
    "colab": {
     "base_uri": "https://localhost:8080/",
     "height": 34
    },
    "colab_type": "code",
    "id": "EP_Qk5AYohgO",
    "outputId": "09f55a0e-0b7e-4b80-9435-542cf4e77049"
   },
   "outputs": [
    {
     "name": "stdout",
     "output_type": "stream",
     "text": [
      "Shape of the final processed data is  (531, 6)\n"
     ]
    }
   ],
   "source": [
    "print('Shape of the final processed data is ',final_data_processed.shape)"
   ]
  },
  {
   "cell_type": "markdown",
   "metadata": {
    "colab_type": "text",
    "id": "u8m4AeDOIkEc"
   },
   "source": [
    "<strong> We shall consider emails that are having  atleast 7 words in content part and emails that are having less than 5 words because subject part must be explained with in least possible words how ever if the subject part is having more number of  words even we human does not consider to read instead we read content of email </strong>"
   ]
  },
  {
   "cell_type": "code",
   "execution_count": 0,
   "metadata": {
    "colab": {
     "base_uri": "https://localhost:8080/",
     "height": 34
    },
    "colab_type": "code",
    "id": "U6EXIwQUIA-5",
    "outputId": "778be042-62bc-47c8-a63e-907f0a20afee"
   },
   "outputs": [
    {
     "name": "stdout",
     "output_type": "stream",
     "text": [
      "Shape of the data frame whose content part is greater  than 7 words (481, 6)\n"
     ]
    }
   ],
   "source": [
    "print(\"Shape of the data frame whose content part is greater  than 7 words\",final_data_processed[final_data_processed.Content.apply(lambda x:len(str(x).split()) > 7)].shape)"
   ]
  },
  {
   "cell_type": "code",
   "execution_count": 0,
   "metadata": {
    "colab": {
     "base_uri": "https://localhost:8080/",
     "height": 34
    },
    "colab_type": "code",
    "id": "m35mvd3uYJAK",
    "outputId": "5e68988f-5668-4dbb-c26d-f2ab88304a16"
   },
   "outputs": [
    {
     "name": "stdout",
     "output_type": "stream",
     "text": [
      "After removing content rows having less than 7 words: (481, 6)\n"
     ]
    }
   ],
   "source": [
    "final_data_processed = final_data_processed[final_data_processed.Content.apply(lambda x:len(str(x).split()) > 7)]\n",
    "final_data_processed.index = [i for i in range(final_data_processed.shape[0])]\n",
    "print(\"After removing content rows having less than 7 words:\",final_data_processed.shape)"
   ]
  },
  {
   "cell_type": "code",
   "execution_count": 0,
   "metadata": {
    "colab": {
     "base_uri": "https://localhost:8080/",
     "height": 656
    },
    "colab_type": "code",
    "id": "_cFlq695gDB3",
    "outputId": "dbc82f44-d6f0-48ad-f5e3-b13ec92e1c08"
   },
   "outputs": [
    {
     "data": {
      "text/html": [
       "<div>\n",
       "<style scoped>\n",
       "    .dataframe tbody tr th:only-of-type {\n",
       "        vertical-align: middle;\n",
       "    }\n",
       "\n",
       "    .dataframe tbody tr th {\n",
       "        vertical-align: top;\n",
       "    }\n",
       "\n",
       "    .dataframe thead th {\n",
       "        text-align: right;\n",
       "    }\n",
       "</style>\n",
       "<table border=\"1\" class=\"dataframe\">\n",
       "  <thead>\n",
       "    <tr style=\"text-align: right;\">\n",
       "      <th></th>\n",
       "      <th>File_name</th>\n",
       "      <th>To</th>\n",
       "      <th>Subject</th>\n",
       "      <th>Previous_email</th>\n",
       "      <th>Content</th>\n",
       "      <th>Type</th>\n",
       "    </tr>\n",
       "  </thead>\n",
       "  <tbody>\n",
       "    <tr>\n",
       "      <th>3</th>\n",
       "      <td>emails_/yernagulahemanth/inbox/160.txt</td>\n",
       "      <td>yernagulahemanth</td>\n",
       "      <td>22assign</td>\n",
       "      <td>nan</td>\n",
       "      <td>q ment rs hi yernagulahemanth applied ai cour...</td>\n",
       "      <td>c__d</td>\n",
       "    </tr>\n",
       "    <tr>\n",
       "      <th>4</th>\n",
       "      <td>emails_/yernagulahemanth/inbox/299.txt</td>\n",
       "      <td>yernagulahemanth</td>\n",
       "      <td>git hub</td>\n",
       "      <td>nan</td>\n",
       "      <td>man please go to this link and try to download...</td>\n",
       "      <td>c__d</td>\n",
       "    </tr>\n",
       "    <tr>\n",
       "      <th>7</th>\n",
       "      <td>emails_/yernagulahemanth/inbox/181.txt</td>\n",
       "      <td>yernagulahemanth</td>\n",
       "      <td>to list</td>\n",
       "      <td>nan</td>\n",
       "      <td>pcfetnuwvbfighbww cjxodgspgoagvhzdkpgldgegbmft...</td>\n",
       "      <td>c__d</td>\n",
       "    </tr>\n",
       "    <tr>\n",
       "      <th>8</th>\n",
       "      <td>emails_/yernagulahemanth/inbox/168.txt</td>\n",
       "      <td>yernagulahemanth</td>\n",
       "      <td></td>\n",
       "      <td>nan</td>\n",
       "      <td>stories for yernagulahemanth today s highlight...</td>\n",
       "      <td>c__d</td>\n",
       "    </tr>\n",
       "    <tr>\n",
       "      <th>10</th>\n",
       "      <td>emails_/yernagulahemanth/inbox/412.txt</td>\n",
       "      <td>yernagulahemanth</td>\n",
       "      <td>how are you comminig</td>\n",
       "      <td>nan</td>\n",
       "      <td>hello mrs yernagulahemanth casestudy are will ...</td>\n",
       "      <td>c__d</td>\n",
       "    </tr>\n",
       "    <tr>\n",
       "      <th>...</th>\n",
       "      <td>...</td>\n",
       "      <td>...</td>\n",
       "      <td>...</td>\n",
       "      <td>...</td>\n",
       "      <td>...</td>\n",
       "      <td>...</td>\n",
       "    </tr>\n",
       "    <tr>\n",
       "      <th>469</th>\n",
       "      <td>emails_/yernagulahemanth/sent/117.txt</td>\n",
       "      <td>yernagulahemanth</td>\n",
       "      <td>regarding sql assignment</td>\n",
       "      <td>thank you for your response on sat sep pm appl...</td>\n",
       "      <td>hello team i saw the links i am ok with writin...</td>\n",
       "      <td>r__y</td>\n",
       "    </tr>\n",
       "    <tr>\n",
       "      <th>470</th>\n",
       "      <td>emails_/yernagulahemanth/sent/77.txt</td>\n",
       "      <td>team</td>\n",
       "      <td>about final project</td>\n",
       "      <td>nan</td>\n",
       "      <td>can you explain more about the problem stateme...</td>\n",
       "      <td>c__d</td>\n",
       "    </tr>\n",
       "    <tr>\n",
       "      <th>471</th>\n",
       "      <td>emails_/yernagulahemanth/sent/77.txt</td>\n",
       "      <td>yernagulahemanth</td>\n",
       "      <td>about final project</td>\n",
       "      <td>can you explain more about the problem stateme...</td>\n",
       "      <td>it is just like digit recognition we will inpu...</td>\n",
       "      <td>r__y</td>\n",
       "    </tr>\n",
       "    <tr>\n",
       "      <th>476</th>\n",
       "      <td>emails_/yernagulahemanth/sent/116.txt</td>\n",
       "      <td>team</td>\n",
       "      <td>regarding sql assignment</td>\n",
       "      <td>nan</td>\n",
       "      <td>you need to be comfortable with writing nested...</td>\n",
       "      <td>c__d</td>\n",
       "    </tr>\n",
       "    <tr>\n",
       "      <th>477</th>\n",
       "      <td>emails_/yernagulahemanth/sent/116.txt</td>\n",
       "      <td>yernagulahemanth</td>\n",
       "      <td>regarding sql assignment</td>\n",
       "      <td>you need to be comfortable with writing nested...</td>\n",
       "      <td>thank you for your response on sat sep pm appl...</td>\n",
       "      <td>r__y</td>\n",
       "    </tr>\n",
       "  </tbody>\n",
       "</table>\n",
       "<p>198 rows × 6 columns</p>\n",
       "</div>"
      ],
      "text/plain": [
       "                                  File_name  ...  Type\n",
       "3    emails_/yernagulahemanth/inbox/160.txt  ...  c__d\n",
       "4    emails_/yernagulahemanth/inbox/299.txt  ...  c__d\n",
       "7    emails_/yernagulahemanth/inbox/181.txt  ...  c__d\n",
       "8    emails_/yernagulahemanth/inbox/168.txt  ...  c__d\n",
       "10   emails_/yernagulahemanth/inbox/412.txt  ...  c__d\n",
       "..                                      ...  ...   ...\n",
       "469   emails_/yernagulahemanth/sent/117.txt  ...  r__y\n",
       "470    emails_/yernagulahemanth/sent/77.txt  ...  c__d\n",
       "471    emails_/yernagulahemanth/sent/77.txt  ...  r__y\n",
       "476   emails_/yernagulahemanth/sent/116.txt  ...  c__d\n",
       "477   emails_/yernagulahemanth/sent/116.txt  ...  r__y\n",
       "\n",
       "[198 rows x 6 columns]"
      ]
     },
     "execution_count": 107,
     "metadata": {
      "tags": []
     },
     "output_type": "execute_result"
    }
   ],
   "source": [
    "final_data_processed[final_data_processed.Subject.apply(lambda x:len(str(x).split()) < 5)]"
   ]
  },
  {
   "cell_type": "code",
   "execution_count": 0,
   "metadata": {
    "colab": {
     "base_uri": "https://localhost:8080/",
     "height": 34
    },
    "colab_type": "code",
    "id": "mtSDKIaB9ZbL",
    "outputId": "ba3571cf-63d6-483b-92b0-20fe946fcfd5"
   },
   "outputs": [
    {
     "name": "stdout",
     "output_type": "stream",
     "text": [
      "After removing subject rows that are not having atleast one word: (462, 6)\n"
     ]
    }
   ],
   "source": [
    "final_data_processed = final_data_processed[final_data_processed.Subject.apply(lambda x:len(str(x).split()) != 0)]\n",
    "final_data_processed.index = [i for i in range(final_data_processed.shape[0])]\n",
    "print(\"After removing subject rows that are not having atleast one word:\",final_data_processed.shape)"
   ]
  },
  {
   "cell_type": "code",
   "execution_count": 0,
   "metadata": {
    "colab": {
     "base_uri": "https://localhost:8080/",
     "height": 34
    },
    "colab_type": "code",
    "id": "ZDqeaVXuiLPQ",
    "outputId": "a15d1ce7-b19c-48ce-8f6f-0e929df95f00"
   },
   "outputs": [
    {
     "name": "stdout",
     "output_type": "stream",
     "text": [
      "After removing subject rows having more than 5 words: (179, 6)\n"
     ]
    }
   ],
   "source": [
    "final_data_processed = final_data_processed[final_data_processed.Subject.apply(lambda x:len(str(x).split()) < 5)]\n",
    "final_data_processed.index = [i for i in range(final_data_processed.shape[0])]\n",
    "print(\"After removing subject rows having more than 5 words:\",final_data_processed.shape)"
   ]
  },
  {
   "cell_type": "code",
   "execution_count": 0,
   "metadata": {
    "colab": {},
    "colab_type": "code",
    "id": "_fMEXZgkMkbZ"
   },
   "outputs": [],
   "source": [
    "final_data_processed.index = [i for i in range(final_data_processed.shape[0])]"
   ]
  },
  {
   "cell_type": "code",
   "execution_count": 0,
   "metadata": {
    "colab": {},
    "colab_type": "code",
    "id": "ud7m5b-6sbbH"
   },
   "outputs": [],
   "source": [
    "final_data_processed.to_csv('gdrive/My Drive/google/my_final_data_processed.csv',index = False)"
   ]
  },
  {
   "cell_type": "code",
   "execution_count": 0,
   "metadata": {
    "colab": {
     "base_uri": "https://localhost:8080/",
     "height": 34
    },
    "colab_type": "code",
    "id": "7o0C72UqQUPE",
    "outputId": "911e093c-225b-4cce-ba7f-76c8512e44d3"
   },
   "outputs": [
    {
     "name": "stdout",
     "output_type": "stream",
     "text": [
      "Shape of processed data is :- (179, 6)\n"
     ]
    }
   ],
   "source": [
    "print('Shape of processed data is :-',final_data_processed.shape)"
   ]
  },
  {
   "cell_type": "code",
   "execution_count": 0,
   "metadata": {
    "colab": {
     "base_uri": "https://localhost:8080/",
     "height": 314
    },
    "colab_type": "code",
    "id": "4gsRiIqqX5K7",
    "outputId": "2c694dd9-fee0-496b-cef4-4a56aa634902"
   },
   "outputs": [
    {
     "data": {
      "text/html": [
       "<div>\n",
       "<style scoped>\n",
       "    .dataframe tbody tr th:only-of-type {\n",
       "        vertical-align: middle;\n",
       "    }\n",
       "\n",
       "    .dataframe tbody tr th {\n",
       "        vertical-align: top;\n",
       "    }\n",
       "\n",
       "    .dataframe thead th {\n",
       "        text-align: right;\n",
       "    }\n",
       "</style>\n",
       "<table border=\"1\" class=\"dataframe\">\n",
       "  <thead>\n",
       "    <tr style=\"text-align: right;\">\n",
       "      <th></th>\n",
       "      <th>File_name</th>\n",
       "      <th>To</th>\n",
       "      <th>Subject</th>\n",
       "      <th>Previous_email</th>\n",
       "      <th>Content</th>\n",
       "      <th>Type</th>\n",
       "    </tr>\n",
       "  </thead>\n",
       "  <tbody>\n",
       "    <tr>\n",
       "      <th>0</th>\n",
       "      <td>emails_/yernagulahemanth/inbox/160.txt</td>\n",
       "      <td>yernagulahemanth</td>\n",
       "      <td>22assign</td>\n",
       "      <td>nan</td>\n",
       "      <td>q ment rs hi yernagulahemanth applied ai cour...</td>\n",
       "      <td>c__d</td>\n",
       "    </tr>\n",
       "    <tr>\n",
       "      <th>1</th>\n",
       "      <td>emails_/yernagulahemanth/inbox/299.txt</td>\n",
       "      <td>yernagulahemanth</td>\n",
       "      <td>git hub</td>\n",
       "      <td>nan</td>\n",
       "      <td>man please go to this link and try to download...</td>\n",
       "      <td>c__d</td>\n",
       "    </tr>\n",
       "    <tr>\n",
       "      <th>2</th>\n",
       "      <td>emails_/yernagulahemanth/inbox/181.txt</td>\n",
       "      <td>yernagulahemanth</td>\n",
       "      <td>to list</td>\n",
       "      <td>nan</td>\n",
       "      <td>pcfetnuwvbfighbww cjxodgspgoagvhzdkpgldgegbmft...</td>\n",
       "      <td>c__d</td>\n",
       "    </tr>\n",
       "    <tr>\n",
       "      <th>3</th>\n",
       "      <td>emails_/yernagulahemanth/inbox/412.txt</td>\n",
       "      <td>yernagulahemanth</td>\n",
       "      <td>how are you comminig</td>\n",
       "      <td>nan</td>\n",
       "      <td>hello mrs yernagulahemanth casestudy are will ...</td>\n",
       "      <td>c__d</td>\n",
       "    </tr>\n",
       "    <tr>\n",
       "      <th>4</th>\n",
       "      <td>emails_/yernagulahemanth/inbox/412.txt</td>\n",
       "      <td>hemanthcasestudy4</td>\n",
       "      <td>how are you comminig</td>\n",
       "      <td>hello mrs yernagulahemanth casestudy are will ...</td>\n",
       "      <td>hello yernagulahemanth i will be coming by car...</td>\n",
       "      <td>r__y</td>\n",
       "    </tr>\n",
       "  </tbody>\n",
       "</table>\n",
       "</div>"
      ],
      "text/plain": [
       "                                File_name  ...  Type\n",
       "0  emails_/yernagulahemanth/inbox/160.txt  ...  c__d\n",
       "1  emails_/yernagulahemanth/inbox/299.txt  ...  c__d\n",
       "2  emails_/yernagulahemanth/inbox/181.txt  ...  c__d\n",
       "3  emails_/yernagulahemanth/inbox/412.txt  ...  c__d\n",
       "4  emails_/yernagulahemanth/inbox/412.txt  ...  r__y\n",
       "\n",
       "[5 rows x 6 columns]"
      ]
     },
     "execution_count": 113,
     "metadata": {
      "tags": []
     },
     "output_type": "execute_result"
    }
   ],
   "source": [
    "final_data_processed.head()"
   ]
  },
  {
   "cell_type": "markdown",
   "metadata": {
    "colab_type": "text",
    "id": "UNsZGfVxN674"
   },
   "source": [
    "<strong>There are some unknown sentances which is shown below</strong>\n"
   ]
  },
  {
   "cell_type": "code",
   "execution_count": 0,
   "metadata": {
    "colab": {
     "base_uri": "https://localhost:8080/",
     "height": 54
    },
    "colab_type": "code",
    "id": "YkGzx0J7gx1f",
    "outputId": "72222990-0d87-4e1f-b5bd-3abedaf4a7e9",
    "scrolled": true
   },
   "outputs": [
    {
     "data": {
      "text/plain": [
       "'pcfetnuwvbfighbww cjxodgspgoagvhzdkpgldgegbmftztidmlldbvcnqiignvbnrl bnqindpzhropwrldmljzsawracwgawpdglhbczyfsztxijkphnewxlpgpibrihsk icbtyxjnawidaciagbwlulxdpzhrooiayntbwedskfqoklyogswjbhvkzsbagugcgfkzglu zybhbmqgymyzgvyigluigfuigvszwlbnqncybbrhbcbawracbhbmqgagvpzhicovciog ewogigjveczaxppbmcigjvcmrlciibgcnkciqifjlbwzsbtyxjnawzigfuzcbwywrk awnigzybgdghligxpcqgkikdwwgewogighcmdpbjogmdskicbwywrkawnoiawowpcgov kibtdhlszsbagugbglzdcbpdgvtcyaqlwpbcbsasbciagyvycyoibwbludgvyowogihbv clawuoibyzwxhdglztskicbwywrkawnoiaxmnbidhwecaxmnbidqwchgciagbglzdcz dhlszsexbloibublowogigjhytncmbmqicnlzwuciagzmudczaxploiaxohbowog ihryywzaxrpbidaumnmciagciaglyogbwfrzsbagugbglzdcbpdgvtcybbnnlbgvjdgfi bgugkikicatdviallxvzzxitcvszwnoibublowogictbotdxnlcizzwxlyqigv bmuciaglwzlxvzzxitcvszwnoibublowogihvzzxitcvszwnoibublowpcgovkibt zxqgywxsigkzcbsaxniglzwzihrvigegzglmzmvyzwignvbgyichzwjyyszdhjpcgvz ksaqlwpbcbsatpudggtyhpbgqobrkksbciagymfjadybvuzdogiyzjlmotskfqoklyog rgfyavyigjhytncmbmqtysbigbgagzxigkikdwwgbgkagzxigewogigjhytn cmbmqicnkzgqcnkciqifdozwgyxpytlzcbvbiwgywrkigegymfjadybvuzcbjbxv cibhbmqgcryawtligdcbzxhicovcnvsigxplmnozwnrzwqgewogigjhytncmbmqicm odgciagysbiicnmzmyciagdgvdckzwnvcmfawuoibsawllxrocmzgcnkciq iefkzcbhicjjagvjavkiibtyxjrihdozwgyxpytlzcbvbiaqlwpbcbsasjagvjavkojpi zwzvcmugewogignvbnrlbnqiccnowogihbvclawuoibhynnvbhvztskicbibjkzxitys biicnmzmyciagymyzgvylxnewxloibzbxpzdskicbibjkzxitdlkdggidagmnbidjw ecawowogihrvcdogmtbwedskicbszwzoiaxnnbowogihryywzzmybtogcmyxrlkdqzgvn ktskicbozwlnahqidechgciagdlkdggiddwedskfqoklyogurbgugdghlignsbnligj dhrvbiaqlwouyxvcugewogihbvclawuoibhynnvbhvztskicbyawdoddogmdskicbba idaciagcgfkzgluzzogmtjwecaxnnbideychggmtzwedskfqoklmnsbnlomhvdmvyihskicbi ywnrzjvdwklwnvbgyoiajzjqmzmowogignvbgyoibaglztskfqoklyogurbgugdghl ighlywrlciaqlwouagvhzgvyihskicbiywnrzjvdwklwnvbgyoiajzjqmzmowogihbhzgrp bmcidmwchggndbwedskicbjbxvcjogdhpdguciagdgvdchbglnbjogyvudgvyowpcgov kibdbgvhcibmbghdhmgywzzxigdghlighlywrlciaqlwouagvhzgvyomfmdgvyihskicbjb zwoiaiijskicbkaxnwbgfoibywjsztskicbjbgvhcjogymadskfqoklyogurbgugdghl igluchvicovcmluchvihskicbtyxjnawidaciagymyzgvyoibublowogigjvcmrlciy ywrpdxmidaciagdlkdggidcjtskicbwywrkawnoiaxmhbowogigzsbfoibszwzowog igzvbnqtclztogmtzwedskfqoklyogurbgugdghlicjbzgqiigjdhrvbiaqlwouywrkqnru ihskicbwywrkawnoiaxmhbowogihdpzhrooiaynsuciagymfjadybvuzdogiqzdlkotsk icbjbxvcjogizuntskicbmbghddogbgvmddskicbzxhlwfsawduoibjzwzxiciagzmu dczaxploiaxnnbowogigncnnvcjogcgpbnrlcjskicbcmfuclawuoiawljnzowogigjv cmrlciyywrpdxmidacnkcihzgrcdgagzxigewogigjhytncmbmqtysbiicni ymicnkpczdhlsztkpcozwfkpgoymketkcjxkaxygawqimrelwiibjbgfzcziagvh zgvyijkicaadigcrbguimhcmdpbjochgipkifrvierviexpcqlgypgogidxpbnb dcbexblpsjzxhiibpzdibxljbnbdcigcgxhyvobxkzxiilrpdgxlliuijkicacbh bibvbmnsawnrpsjuzxdfbgvtzwkckiignsyxnzpsjhzgrcdgipkfkzdwvcbhbjkpckaxy cgodwwgawqimvuwipgogidxsatiaxqgdghligdbtwvbgk ciagpgxpignsyxnzpsjjagvj avkijqyxkgymlsbhmlxppgogidxsatnzwviedlbjnztwvbgk ciagpgxppkjesblzdz pcsatkicabgk umvhzcbhigjvbslxppgogidxsatpcmdhbmlzsbvzmzpyulxppgo lvspgokphnjcmlwddklygqjlyxrligegimnsbnliibidxrbgywkigfwcgvuzcbpdcb byblywnoigxpcqgaxrlbqpyxigbxlobrlbglzdcaigrvyvtzwlmdldevszwlbnrzqnlu ywdoywlkcjmssipowpyxigatskzmyichpidgmdsgasaigtmkzwxpcqubgvuzrooybp kyspihskicbyxigcbhbiaigrvyvtzwlmnyzwfzuvszwlbnqoilnqquiktskicbyxig dhhidgzgjdwlbnquyjlyxrlvgvdevzguoilxmdbenyipowogihnwywuyxhcnoywl idgimnsbnlijskicbzcgfulmfwcgvuzenoawxkkhrdckciagbxlobrlbglzdftpxshchbl bmrdaglszchzcgfuktskfqoklygqxpysgbgysbjbgzzsbidxrbgdggaglkzsbagug yvycmvudcbsaxniglzwkdmfyignsbnlidgzgjdwlbnquzvrwxlbwvudhnceunsyxnz tmftzsgiyxvcuiktskdmfyigkcmzvciaoasaidaigkgpcbjbgzzsszwndggigkrkykg ewogignsbnlwldlmuyxpysgpsbmdwjdglvbigpihskicagihzhcibkaxygpsbaglzlnbh cmvudevszwlbnqciagicbkaxyucrbguuzglzcgxhesaicjublijskicbcnkciviefk zcbhicjjagvjavkiibzewibwgdhlbibjbgljaluzybvbibhigxpcqgaxrlbqpyxigbglz dcaigrvyvtzwlnfzxjuvszwnbiojvsjykcmxpcquywrkrxzlbnrmaxnzwlcign yxpysnlcbmdwjdglvbihldikgewogiglmichldiyxjnzxqudgfntmftzsaptgjxjjykg ewogicagzxyudgfyzvlmnsyxnztglzdcbdnbguojnozwnrzwqnktskicbcnsigzhbhnl ktskcivienyzwfzsbhigldybsaxniglzwgdhlbibjbgljaluzybvbibagugikfkzcig ynvdgucmzbmnawuigldvszwlbnqoksbciagdmfyigxpidgzgjdwlbnquyjlyxrl rwxlbwvudcgibgkiktskicbyxigawwdxrwywxzsaigrvyvtzwlmdldevszwlbnrceulk kcjteuluchviikudmfsdwuciagdmfyihqgpsbkbnbwvudcjcmvhdgvuzxhtmkzshpbnb dfzhbhvlktskicbsashchblbmrdaglszchktskicbpziaoawwdxrwywxzsaptgjycpihsk icagigfszxjkcjzbugbxvzdcbcmlzsbzbldghpbmchiikciagfsblbhnlihskicagigrv yvtzwlmdldevszwlbnrceulkkcjtevvmiikuyxbwzwkqhpbgqobgkpowogihkicbkbn bwvudcnzxrfbgvtzwqnljzcgibxljbnbdciplnzhbhvlidgiiicgogihzhcibzcgfuidg zgjdwlbnquyjlyxrlrwxlbwvudcgiubbtiipowogihzhcibehqgpsbkbnbwvudcjcmvh dgvuzxhtmkzsgixhuwmeqiikciagcbhbijbgfzchbwugpsaiyxvcuiowogihnwywu yxbwzwkqhpbgqodhhktskicbsashchblbmrdaglszchzcgfuktskciagzmyichpidgmdsg asaignsbnllmxlbmdadsgassrksbciagicbjbgzzvtpxsvbmnsawnridgznvuyrpbo ksbciagicagihzhcibkaxygpsbaglzlnbhcmvudevszwlbnqciagicagigrpdizdhlszsk axnwbgfidgimvbmuiowogicagfqogihkfqolnjcmlwddkcjwvymketkpcodgspgo'"
      ]
     },
     "execution_count": 114,
     "metadata": {
      "tags": []
     },
     "output_type": "execute_result"
    }
   ],
   "source": [
    "final_data_processed.Content.iloc[2]"
   ]
  },
  {
   "cell_type": "markdown",
   "metadata": {
    "colab_type": "text",
    "id": "6OMQ-my0Oegn"
   },
   "source": [
    "<strong>To eliminate sentance like above we can define a new ratio as shown below.<br>\n",
    "\n",
    "$$f' \\frac {number of  words  in  sentance}{number of charecters  in  the  sentances}$$\n",
    " I observed  this ratio is less than 0.09 if a   sentance is not a genuine one"
   ]
  },
  {
   "cell_type": "code",
   "execution_count": 0,
   "metadata": {
    "colab": {
     "base_uri": "https://localhost:8080/",
     "height": 94
    },
    "colab_type": "code",
    "id": "xSwk0-2zpdrc",
    "outputId": "f80f81fb-b946-445a-a7a1-0fe219c7ab0a"
   },
   "outputs": [
    {
     "data": {
      "text/html": [
       "<div>\n",
       "<style scoped>\n",
       "    .dataframe tbody tr th:only-of-type {\n",
       "        vertical-align: middle;\n",
       "    }\n",
       "\n",
       "    .dataframe tbody tr th {\n",
       "        vertical-align: top;\n",
       "    }\n",
       "\n",
       "    .dataframe thead th {\n",
       "        text-align: right;\n",
       "    }\n",
       "</style>\n",
       "<table border=\"1\" class=\"dataframe\">\n",
       "  <thead>\n",
       "    <tr style=\"text-align: right;\">\n",
       "      <th></th>\n",
       "      <th>File_name</th>\n",
       "      <th>To</th>\n",
       "      <th>Subject</th>\n",
       "      <th>Previous_email</th>\n",
       "      <th>Content</th>\n",
       "      <th>Type</th>\n",
       "    </tr>\n",
       "  </thead>\n",
       "  <tbody>\n",
       "    <tr>\n",
       "      <th>2</th>\n",
       "      <td>emails_/yernagulahemanth/inbox/181.txt</td>\n",
       "      <td>yernagulahemanth</td>\n",
       "      <td>to list</td>\n",
       "      <td>nan</td>\n",
       "      <td>pcfetnuwvbfighbww cjxodgspgoagvhzdkpgldgegbmft...</td>\n",
       "      <td>c__d</td>\n",
       "    </tr>\n",
       "  </tbody>\n",
       "</table>\n",
       "</div>"
      ],
      "text/plain": [
       "                                File_name  ...  Type\n",
       "2  emails_/yernagulahemanth/inbox/181.txt  ...  c__d\n",
       "\n",
       "[1 rows x 6 columns]"
      ]
     },
     "execution_count": 115,
     "metadata": {
      "tags": []
     },
     "output_type": "execute_result"
    }
   ],
   "source": [
    "final_data_processed[[len(str(final_data_processed.Content.iloc[i]).split())/len(str(final_data_processed.Content.iloc[i])) < 0.09 for i in range(final_data_processed.shape[0])]]"
   ]
  },
  {
   "cell_type": "markdown",
   "metadata": {
    "colab_type": "text",
    "id": "lqepu3YoYLbt"
   },
   "source": [
    "<strong> Lets see the ratio of random sentaces </strong>"
   ]
  },
  {
   "cell_type": "code",
   "execution_count": 16,
   "metadata": {
    "colab": {
     "base_uri": "https://localhost:8080/",
     "height": 303
    },
    "colab_type": "code",
    "id": "72GhOVkNXdrX",
    "outputId": "7e11dade-0739-4b98-b34d-2d8976fb047f"
   },
   "outputs": [
    {
     "name": "stdout",
     "output_type": "stream",
     "text": [
      "--------------------------------------------------\n",
      "hi yernagulahemanth sir what is the significance of data iris if i do not mention data also it is working properly there is no need to mention the parameter explicitly but it helps to retain the parameter name for readability regards team appliedai \n",
      "0.17269076305220885\n",
      "--------------------------------------------------\n",
      "google verification code dear google user we received a request to access your google account through your email address your google verification code is if you did not request this code it is possible that someone else is trying to access the google account do not forward or give this code to anyone sincerely yours the google accounts team this email cant receive replies for more information visit the google accounts help center google inc amphitheatre parkway mountain view ca usa \n",
      "0.16632443531827515\n",
      "--------------------------------------------------\n",
      "read books with scribd youre welcome back anytime view this email in browser hi yernagulahemanth your scribd membership has been cancelled effective april if youd like to resume your scribd membership in the future all you have to do is sign back up your scribd account will be here and waiting to give you access to the best books audiobooks magazines and more resume membership and dont forget were always here to help visit our help center for more info or feel free to contact us directly with any questions comments or concerns thanks team scribd join us on social refer a friend manage preferences contact us this email was sent to yernagulahemanth gmail com this email was sent by scribd bush street san francisco ca united states \n",
      "0.17344173441734417\n",
      "--------------------------------------------------\n",
      "yes yernagulahemanth can you share us the link of the problem statements can you tell us how many course case studies you have completed \n",
      "0.17518248175182483\n",
      "--------------------------------------------------\n",
      "account dear user you are in the process of signing in to your account the verification code is it will be valid for minutes to protect your account do not disclose it to anyone the email is sent by the system automatically please do not reply thank you \n",
      "0.1889763779527559\n"
     ]
    }
   ],
   "source": [
    "for i in range(5):\n",
    "    print('-'*50)\n",
    "    print(final_data_processed.Content.iloc[i+42])\n",
    "    print(len(str(final_data_processed.Content.iloc[i+42]).split())/len(str(final_data_processed.Content.iloc[i+42])))"
   ]
  },
  {
   "cell_type": "markdown",
   "metadata": {
    "colab_type": "text",
    "id": "XfJMVkbVRRoG"
   },
   "source": [
    "<strong>Lets only consider whose ratio is more than 0.09</strong>"
   ]
  },
  {
   "cell_type": "code",
   "execution_count": 7,
   "metadata": {
    "colab": {
     "base_uri": "https://localhost:8080/",
     "height": 34
    },
    "colab_type": "code",
    "id": "T16s_C5jAqZQ",
    "outputId": "842b3ea8-a5f8-4735-961e-91127c0c65dd"
   },
   "outputs": [
    {
     "data": {
      "text/plain": [
       "(164, 6)"
      ]
     },
     "execution_count": 7,
     "metadata": {
      "tags": []
     },
     "output_type": "execute_result"
    }
   ],
   "source": [
    "final_data_processed = final_data_processed[[len(str(final_data_processed.Content.iloc[i]).split())/len(str(final_data_processed.Content.iloc[i])) > 0.09 for i in range(final_data_processed.shape[0])]]\n",
    "final_data_processed.shape"
   ]
  },
  {
   "cell_type": "code",
   "execution_count": 8,
   "metadata": {
    "colab": {
     "base_uri": "https://localhost:8080/",
     "height": 264
    },
    "colab_type": "code",
    "id": "IFa30psKjP8F",
    "outputId": "b914adf4-1af4-4f14-b551-83e21466cfb6"
   },
   "outputs": [
    {
     "data": {
      "text/html": [
       "<div>\n",
       "<style scoped>\n",
       "    .dataframe tbody tr th:only-of-type {\n",
       "        vertical-align: middle;\n",
       "    }\n",
       "\n",
       "    .dataframe tbody tr th {\n",
       "        vertical-align: top;\n",
       "    }\n",
       "\n",
       "    .dataframe thead th {\n",
       "        text-align: right;\n",
       "    }\n",
       "</style>\n",
       "<table border=\"1\" class=\"dataframe\">\n",
       "  <thead>\n",
       "    <tr style=\"text-align: right;\">\n",
       "      <th></th>\n",
       "      <th>File_name</th>\n",
       "      <th>To</th>\n",
       "      <th>Subject</th>\n",
       "      <th>Previous_email</th>\n",
       "      <th>Content</th>\n",
       "      <th>Type</th>\n",
       "    </tr>\n",
       "  </thead>\n",
       "  <tbody>\n",
       "    <tr>\n",
       "      <th>0</th>\n",
       "      <td>emails_/yernagulahemanth/inbox/299.txt</td>\n",
       "      <td>yernagulahemanth</td>\n",
       "      <td>git hub</td>\n",
       "      <td>NaN</td>\n",
       "      <td>man please go to this link and try to download...</td>\n",
       "      <td>c__d</td>\n",
       "    </tr>\n",
       "    <tr>\n",
       "      <th>1</th>\n",
       "      <td>emails_/yernagulahemanth/inbox/412.txt</td>\n",
       "      <td>yernagulahemanth</td>\n",
       "      <td>how are you comminig</td>\n",
       "      <td>NaN</td>\n",
       "      <td>hello mrs yernagulahemanth casestudy are will ...</td>\n",
       "      <td>c__d</td>\n",
       "    </tr>\n",
       "    <tr>\n",
       "      <th>2</th>\n",
       "      <td>emails_/yernagulahemanth/inbox/412.txt</td>\n",
       "      <td>hemanthcasestudy4</td>\n",
       "      <td>how are you comminig</td>\n",
       "      <td>hello mrs yernagulahemanth casestudy are will ...</td>\n",
       "      <td>hello yernagulahemanth i will be coming by car...</td>\n",
       "      <td>r__y</td>\n",
       "    </tr>\n",
       "    <tr>\n",
       "      <th>3</th>\n",
       "      <td>emails_/yernagulahemanth/inbox/381.txt</td>\n",
       "      <td>yernagulahemanth</td>\n",
       "      <td>regarding deep learning project</td>\n",
       "      <td>NaN</td>\n",
       "      <td>yes this seems fine only three words in the ou...</td>\n",
       "      <td>c__d</td>\n",
       "    </tr>\n",
       "    <tr>\n",
       "      <th>4</th>\n",
       "      <td>emails_/yernagulahemanth/inbox/400.txt</td>\n",
       "      <td>yernagulahemanth</td>\n",
       "      <td>webinar</td>\n",
       "      <td>NaN</td>\n",
       "      <td>hello saitejapsk this evening at pm your are h...</td>\n",
       "      <td>c__d</td>\n",
       "    </tr>\n",
       "  </tbody>\n",
       "</table>\n",
       "</div>"
      ],
      "text/plain": [
       "                                File_name  ...  Type\n",
       "0  emails_/yernagulahemanth/inbox/299.txt  ...  c__d\n",
       "1  emails_/yernagulahemanth/inbox/412.txt  ...  c__d\n",
       "2  emails_/yernagulahemanth/inbox/412.txt  ...  r__y\n",
       "3  emails_/yernagulahemanth/inbox/381.txt  ...  c__d\n",
       "4  emails_/yernagulahemanth/inbox/400.txt  ...  c__d\n",
       "\n",
       "[5 rows x 6 columns]"
      ]
     },
     "execution_count": 8,
     "metadata": {
      "tags": []
     },
     "output_type": "execute_result"
    }
   ],
   "source": [
    "final_data_processed.head()"
   ]
  },
  {
   "cell_type": "markdown",
   "metadata": {
    "colab_type": "text",
    "id": "2Lm--Vy6V1Cc"
   },
   "source": [
    "<strong> Lets save the file</strong>"
   ]
  },
  {
   "cell_type": "code",
   "execution_count": 0,
   "metadata": {
    "colab": {},
    "colab_type": "code",
    "id": "9fRq6lZIs28r"
   },
   "outputs": [],
   "source": [
    "final_data_processed.to_csv('gdrive/My Drive/google/final_data_processed_my_emails.csv',index=False)"
   ]
  },
  {
   "cell_type": "markdown",
   "metadata": {},
   "source": [
    "<strong>Lets prepare this data in next document</strong>"
   ]
  },
  {
   "cell_type": "code",
   "execution_count": 0,
   "metadata": {
    "colab": {},
    "colab_type": "code",
    "id": "b0_3rtTuuMtp"
   },
   "outputs": [],
   "source": [
    "#Done__________________________________"
   ]
  }
 ],
 "metadata": {
  "accelerator": "GPU",
  "colab": {
   "collapsed_sections": [],
   "machine_shape": "hm",
   "name": "GSC Data_Cleaning.ipynb",
   "provenance": []
  },
  "kernelspec": {
   "display_name": "Python 3",
   "language": "python",
   "name": "python3"
  },
  "language_info": {
   "codemirror_mode": {
    "name": "ipython",
    "version": 3
   },
   "file_extension": ".py",
   "mimetype": "text/x-python",
   "name": "python",
   "nbconvert_exporter": "python",
   "pygments_lexer": "ipython3",
   "version": "3.5.3"
  }
 },
 "nbformat": 4,
 "nbformat_minor": 1
}
